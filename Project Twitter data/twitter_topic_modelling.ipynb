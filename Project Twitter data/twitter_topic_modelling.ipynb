{
  "cells": [
    {
      "cell_type": "markdown",
      "source": [
        "# Tweets analysis - topic modelling"
      ],
      "metadata": {
        "id": "7Uhhq6L-mKuz"
      }
    },
    {
      "cell_type": "markdown",
      "source": [
        "## Importing libraries and data"
      ],
      "metadata": {
        "id": "A8i-Hm-pmS8W"
      }
    },
    {
      "cell_type": "code",
      "source": [
        "!python -m spacy download en_core_web_md"
      ],
      "metadata": {
        "id": "IHrhMlg4mTZa"
      },
      "execution_count": null,
      "outputs": []
    },
    {
      "cell_type": "code",
      "source": [
        "!pip install --upgrade gensim==3.8"
      ],
      "metadata": {
        "id": "nxXFRbpxm4vx"
      },
      "execution_count": null,
      "outputs": []
    },
    {
      "cell_type": "code",
      "source": [
        "!wget http://mallet.cs.umass.edu/dist/mallet-2.0.8.zip\n",
        "!unzip mallet-2.0.8.zip"
      ],
      "metadata": {
        "id": "zxowK4BEnUnq"
      },
      "execution_count": null,
      "outputs": []
    },
    {
      "cell_type": "code",
      "execution_count": null,
      "metadata": {
        "colab": {
          "base_uri": "https://localhost:8080/"
        },
        "id": "RvehTNVdlBAe",
        "outputId": "e4b14178-3ad4-4ed5-91a2-a889ef7e861c"
      },
      "outputs": [
        {
          "output_type": "stream",
          "name": "stderr",
          "text": [
            "[nltk_data] Downloading package stopwords to /root/nltk_data...\n",
            "[nltk_data]   Package stopwords is already up-to-date!\n",
            "[nltk_data] Downloading package wordnet to /root/nltk_data...\n",
            "[nltk_data]   Package wordnet is already up-to-date!\n"
          ]
        },
        {
          "output_type": "stream",
          "name": "stdout",
          "text": [
            "openjdk version \"11.0.15\" 2022-04-19\n",
            "OpenJDK Runtime Environment (build 11.0.15+10-Ubuntu-0ubuntu0.18.04.1)\n",
            "OpenJDK 64-Bit Server VM (build 11.0.15+10-Ubuntu-0ubuntu0.18.04.1, mixed mode, sharing)\n"
          ]
        }
      ],
      "source": [
        "import re\n",
        "import numpy as np\n",
        "import pandas as pd\n",
        "from pprint import pprint\n",
        "from datetime import datetime\n",
        "\n",
        "#plotting\n",
        "import matplotlib.pyplot as plt\n",
        "import seaborn as sns\n",
        "import plotly.express as px\n",
        "%matplotlib inline\n",
        "\n",
        "#word count\n",
        "from collections import Counter\n",
        "\n",
        "#sentiment analysis\n",
        "from textblob import TextBlob\n",
        "\n",
        "#text preprocessing\n",
        "from nltk.corpus import stopwords\n",
        "import nltk\n",
        "from nltk.stem import WordNetLemmatizer \n",
        "nltk.download('stopwords')\n",
        "nltk.download('wordnet')\n",
        "from nltk.tokenize import RegexpTokenizer\n",
        "\n",
        "#hide warning\n",
        "import warnings\n",
        "warnings.filterwarnings(\"ignore\",category=DeprecationWarning)\n",
        "\n",
        "import os       #importing os to set environment variable\n",
        "import os.path\n",
        "import glob\n",
        "\n",
        "def install_java():\n",
        "  !apt-get install -y openjdk-8-jdk-headless -qq > /dev/null      #install openjdk\n",
        "  os.environ[\"JAVA_HOME\"] = \"/usr/lib/jvm/java-8-openjdk-amd64\"     #set environment variable\n",
        "  !java -version       #check java version\n",
        "install_java()\n",
        "\n",
        "import spacy\n",
        "import en_core_web_sm\n",
        "nlp = en_core_web_sm.load()\n",
        "\n",
        "import gensim\n",
        "import gensim.corpora as corpora\n",
        "from gensim.utils import simple_preprocess\n",
        "from gensim.models.wrappers import LdaMallet\n",
        "from gensim.models.coherencemodel import CoherenceModel\n",
        "from gensim import similarities"
      ]
    },
    {
      "cell_type": "code",
      "execution_count": null,
      "metadata": {
        "id": "7FxCf-0AlBAh"
      },
      "outputs": [],
      "source": [
        "df = pd.read_csv('twitter_data_sent.csv',parse_dates=['date','created','year'])"
      ]
    },
    {
      "cell_type": "markdown",
      "source": [
        "## Preprocessing for topic Modeling"
      ],
      "metadata": {
        "id": "ZvNzBE0hmXM-"
      }
    },
    {
      "cell_type": "code",
      "source": [
        "# tokenize each sentence into a list of words, removing punctuations\n",
        "df['text_nlp'] = df['text_nlp'].str.replace('pad','phd')\n",
        "\n",
        "def sent_to_words(sentences):\n",
        "    for sentence in sentences:\n",
        "        yield(gensim.utils.simple_preprocess(str(sentence), deacc=True))  # deacc=True removes punctuations\n",
        "\n",
        "data_words = list(sent_to_words(df['text_nlp']))\n",
        "\n",
        "# Remove Stop and common Words\n",
        "stopwords = nltk.corpus.stopwords.words('english')\n",
        "# 'home', 'stay','new','york', 'time',\n",
        "newStopWords =  ['s','t',  'm', 're','don','ve','2', '3', '1', \n",
        "                 'it', 'i', 'us', 'get', 'you', 'let', 'going', 'know', \n",
        "                'make', 'take', 'still','got', 'can', 'this', 'all', 'me','go',\n",
        "                'even', 'here', 'well', 'much', 'many', 'way', 'want', 'every', 'little', 'phdchat', 'phdlife']\n",
        "stopwords.extend(newStopWords)\n",
        "\n",
        "data_words = [[word for word in doc if word not in stopwords] for doc in data_words]"
      ],
      "metadata": {
        "id": "qkJt0j5plwbs"
      },
      "execution_count": null,
      "outputs": []
    },
    {
      "cell_type": "code",
      "source": [
        "# restrict words to only noun, adjective, verb and adverb\n",
        "def lemmatization(texts, allowed_postags=['NOUN', 'ADJ', 'VERB', 'ADV']):\n",
        "    \"\"\"https://spacy.io/api/annotation\"\"\"\n",
        "    texts_out = []\n",
        "    for sent in texts:\n",
        "        doc = nlp(\" \".join(sent)) \n",
        "        texts_out.append([token.lemma_ for token in doc if token.pos_ in allowed_postags])\n",
        "    return texts_out\n",
        "\n",
        "# Initialize spacy 'en' model, keeping only tagger component (for efficiency)\n",
        "# Do lemmatization keeping only noun, adj, vb, adv\n",
        "data_lemmatized = lemmatization(data_words, allowed_postags=['NOUN', 'ADJ', 'VERB', 'ADV'])"
      ],
      "metadata": {
        "id": "5brtzxKvly_8"
      },
      "execution_count": null,
      "outputs": []
    },
    {
      "cell_type": "code",
      "source": [
        "# Create Dictionary\n",
        "id2word = corpora.Dictionary(data_lemmatized)\n",
        "# Create Corpus\n",
        "texts = data_lemmatized\n",
        "# Term Document Frequency\n",
        "corpus = [id2word.doc2bow(text) for text in texts]"
      ],
      "metadata": {
        "id": "6uk_E6vdl1SA"
      },
      "execution_count": null,
      "outputs": []
    },
    {
      "cell_type": "code",
      "source": [
        "os.environ['MALLET_HOME'] = '/content/mallet-2.0.8'\n",
        "mallet_path = '/content/mallet-2.0.8/bin/mallet' "
      ],
      "metadata": {
        "id": "uUCFP5tunZ5g"
      },
      "execution_count": null,
      "outputs": []
    },
    {
      "cell_type": "markdown",
      "source": [
        "## Finding the optimal number of topics using LdaMallet model"
      ],
      "metadata": {
        "id": "nfn352aTmfmj"
      }
    },
    {
      "cell_type": "code",
      "source": [
        "start=24\n",
        "limit=32\n",
        "step=2\n",
        "random = 155\n",
        "\n",
        "# function to compute coherence values for each model. \n",
        "# This could help us choose how many topics should be included into our model.\n",
        "\n",
        "def compute_coherence_values(dictionary, corpus, texts, limit, start=1, step=1):\n",
        "    \"\"\"\n",
        "    Compute c_v coherence for various number of topics\n",
        "\n",
        "    Parameters:\n",
        "    ----------\n",
        "    dictionary : Gensim dictionary\n",
        "    corpus : Gensim corpus\n",
        "    texts : List of input texts\n",
        "    limit : Max num of topics\n",
        "\n",
        "    Returns:\n",
        "    -------\n",
        "    model_list : List of LDA topic models\n",
        "    coherence_values : Coherence values corresponding to the LDA model with respective number of topics\n",
        "    \"\"\"\n",
        "    coherence_values = []\n",
        "    model_list = []\n",
        "    for num_topics in range(start, limit, step):\n",
        "        model = gensim.models.wrappers.LdaMallet(mallet_path, corpus=corpus, num_topics=num_topics, id2word=id2word)\n",
        "        model_list.append(model)\n",
        "        coherencemodel = CoherenceModel(model=model, texts=texts, dictionary=dictionary, coherence='c_v')\n",
        "        coherence_values.append(coherencemodel.get_coherence())\n",
        "\n",
        "    return model_list, coherence_values"
      ],
      "metadata": {
        "id": "Xq3zR0lTgRny"
      },
      "execution_count": null,
      "outputs": []
    },
    {
      "cell_type": "code",
      "source": [
        "# compute coherence values for each model\n",
        "model_list, coherence_values = compute_coherence_values(dictionary=id2word, corpus=corpus, texts=data_lemmatized, start=start, limit=limit)"
      ],
      "metadata": {
        "id": "HxQLaN9PgkDf"
      },
      "execution_count": null,
      "outputs": []
    },
    {
      "cell_type": "code",
      "source": [
        "for m, cv in zip(x, coherence_values):\n",
        "    print(\"Num Topics =\", m, \" has Coherence Value of\", round(cv, 4))"
      ],
      "metadata": {
        "colab": {
          "base_uri": "https://localhost:8080/"
        },
        "id": "MsKULhLFkk8k",
        "outputId": "ea562fbe-378c-46b0-ec3c-e0639d37e18c"
      },
      "execution_count": null,
      "outputs": [
        {
          "output_type": "stream",
          "name": "stdout",
          "text": [
            "Num Topics = 24  has Coherence Value of 0.3257\n",
            "Num Topics = 26  has Coherence Value of 0.3218\n",
            "Num Topics = 28  has Coherence Value of 0.3246\n",
            "Num Topics = 30  has Coherence Value of 0.3568\n"
          ]
        }
      ]
    },
    {
      "cell_type": "markdown",
      "source": [
        "## Finding Key Words for each topic using optimal LdaMallet model"
      ],
      "metadata": {
        "id": "ZxB5xW4SmDd7"
      }
    },
    {
      "cell_type": "code",
      "source": [
        "ldamallet = LdaMallet(mallet_path, corpus=corpus, num_topics=30, id2word=id2word)"
      ],
      "metadata": {
        "id": "9Cw2vweDm1Z3"
      },
      "execution_count": null,
      "outputs": []
    },
    {
      "cell_type": "code",
      "source": [
        "# Show Topics\n",
        "model_topics = ldamallet.show_topics(formatted=False)\n",
        "pprint(sorted(ldamallet.print_topics(num_words=8)))"
      ],
      "metadata": {
        "colab": {
          "base_uri": "https://localhost:8080/"
        },
        "id": "ctrkb3P_mvYZ",
        "outputId": "251154f2-bf9e-4a22-a38c-22fc79add69b"
      },
      "execution_count": null,
      "outputs": [
        {
          "output_type": "stream",
          "name": "stdout",
          "text": [
            "[(0,\n",
            "  '0.226*\"good\" + 0.224*\"anxiety\" + 0.051*\"worry\" + 0.042*\"bad\" + '\n",
            "  '0.034*\"place\" + 0.032*\"insane\" + 0.030*\"stop\" + 0.027*\"question\"'),\n",
            " (1,\n",
            "  '0.247*\"academic\" + 0.095*\"school\" + 0.048*\"education\" + 0.035*\"pay\" + '\n",
            "  '0.029*\"subject\" + 0.027*\"system\" + 0.023*\"culture\" + 0.023*\"number\"'),\n",
            " (2,\n",
            "  '0.248*\"graduate\" + 0.064*\"apply\" + 0.064*\"child\" + 0.049*\"care\" + '\n",
            "  '0.048*\"support\" + 0.047*\"social\" + 0.032*\"concern\" + 0.030*\"training\"'),\n",
            " (3,\n",
            "  '0.127*\"sad\" + 0.110*\"friend\" + 0.066*\"family\" + 0.066*\"amazing\" + '\n",
            "  '0.043*\"person\" + 0.040*\"meet\" + 0.037*\"colleague\" + 0.034*\"time\"'),\n",
            " (4,\n",
            "  '0.201*\"write\" + 0.109*\"dissertation\" + 0.085*\"finish\" + 0.078*\"read\" + '\n",
            "  '0.059*\"book\" + 0.056*\"paper\" + 0.034*\"interesting\" + 0.030*\"send\"'),\n",
            " (5,\n",
            "  '0.232*\"today\" + 0.088*\"therapy\" + 0.047*\"session\" + 0.044*\"enjoy\" + '\n",
            "  '0.038*\"lead\" + 0.032*\"art\" + 0.029*\"follow\" + 0.029*\"forward\"'),\n",
            " (7,\n",
            "  '0.280*\"stress\" + 0.107*\"thesis\" + 0.071*\"level\" + 0.056*\"high\" + '\n",
            "  '0.054*\"wait\" + 0.044*\"exam\" + 0.044*\"result\" + 0.035*\"submit\"'),\n",
            " (9,\n",
            "  '0.160*\"distressful\" + 0.141*\"month\" + 0.125*\"job\" + 0.051*\"move\" + '\n",
            "  '0.051*\"hand\" + 0.041*\"run\" + 0.037*\"week\" + 0.035*\"worth\"'),\n",
            " (10,\n",
            "  '0.135*\"tear\" + 0.077*\"happy\" + 0.071*\"proud\" + 0.062*\"night\" + '\n",
            "  '0.058*\"finally\" + 0.046*\"lot\" + 0.043*\"big\" + 0.035*\"graduate\"'),\n",
            " (11,\n",
            "  '0.255*\"dissertation\" + 0.193*\"stress\" + 0.156*\"cry\" + 0.052*\"writing\" + '\n",
            "  '0.024*\"fact\" + 0.022*\"literally\" + 0.021*\"library\" + 0.019*\"essay\"'),\n",
            " (12,\n",
            "  '0.412*\"work\" + 0.154*\"week\" + 0.089*\"hard\" + 0.041*\"exhaust\" + '\n",
            "  '0.031*\"weekend\" + 0.026*\"couple\" + 0.024*\"busy\" + 0.022*\"lockdown\"'),\n",
            " (14,\n",
            "  '0.148*\"academic\" + 0.085*\"talk\" + 0.083*\"part\" + 0.067*\"trauma\" + '\n",
            "  '0.048*\"share\" + 0.032*\"open\" + 0.031*\"event\" + 0.025*\"speak\"'),\n",
            " (16,\n",
            "  '0.274*\"give\" + 0.112*\"life\" + 0.104*\"love\" + 0.088*\"thing\" + 0.044*\"ill\" + '\n",
            "  '0.041*\"remember\" + 0.036*\"phd\" + 0.026*\"interview\"'),\n",
            " (18,\n",
            "  '0.251*\"sad\" + 0.095*\"phd\" + 0.088*\"hear\" + 0.049*\"pass\" + 0.039*\"man\" + '\n",
            "  '0.034*\"woman\" + 0.033*\"news\" + 0.027*\"story\"'),\n",
            " (19,\n",
            "  '0.155*\"mentalhealth\" + 0.113*\"study\" + 0.098*\"depression\" + '\n",
            "  '0.070*\"important\" + 0.051*\"struggle\" + 0.038*\"mind\" + 0.031*\"psychology\" + '\n",
            "  '0.026*\"decorate\"'),\n",
            " (22,\n",
            "  '0.217*\"phd\" + 0.178*\"start\" + 0.072*\"thing\" + 0.065*\"worried\" + '\n",
            "  '0.050*\"supervisor\" + 0.039*\"exhausted\" + 0.037*\"kind\" + 0.029*\"pretty\"'),\n",
            " (23,\n",
            "  '0.199*\"make\" + 0.097*\"thesis\" + 0.077*\"work\" + 0.050*\"lot\" + 0.025*\"money\" '\n",
            "  '+ 0.024*\"email\" + 0.023*\"check\" + 0.023*\"current\"'),\n",
            " (25,\n",
            "  '0.181*\"academic\" + 0.104*\"end\" + 0.102*\"year\" + 0.065*\"time\" + 0.043*\"burn\" '\n",
            "  '+ 0.032*\"term\" + 0.032*\"absolutely\" + 0.031*\"emotional\"'),\n",
            " (27,\n",
            "  '0.476*\"year\" + 0.123*\"crazy\" + 0.072*\"master\" + 0.068*\"degree\" + '\n",
            "  '0.064*\"ago\" + 0.044*\"plan\" + 0.016*\"ahead\" + 0.011*\"nursing\"'),\n",
            " (28,\n",
            "  '0.234*\"student\" + 0.093*\"experience\" + 0.065*\"live\" + 0.063*\"university\" + '\n",
            "  '0.063*\"academic\" + 0.062*\"learn\" + 0.045*\"suicide\" + 0.036*\"staff\"')]\n"
          ]
        }
      ]
    },
    {
      "cell_type": "code",
      "source": [
        "topics = pd.DataFrame(sorted(ldamallet.print_topics(num_words=10)))\n",
        "topics.columns = ['Topic_num','Key_words']\n",
        "topics.to_csv('30_topics.csv',index = False)"
      ],
      "metadata": {
        "id": "ExjlvpX_npch"
      },
      "execution_count": null,
      "outputs": []
    },
    {
      "cell_type": "code",
      "source": [
        "# Compute Coherence Score\n",
        "coherence_model_ldamallet = CoherenceModel(model=ldamallet, texts=data_lemmatized, dictionary=id2word, coherence='c_v')\n",
        "coherence_ldamallet = coherence_model_ldamallet.get_coherence()\n",
        "print('\\nCoherence Score: ', coherence_ldamallet)"
      ],
      "metadata": {
        "colab": {
          "base_uri": "https://localhost:8080/"
        },
        "id": "S8DV-V7KrSYT",
        "outputId": "fec7dad8-1cc5-47f6-e3fe-ebe647563455"
      },
      "execution_count": null,
      "outputs": [
        {
          "output_type": "stream",
          "name": "stdout",
          "text": [
            "\n",
            "Coherence Score:  0.3530136357526256\n"
          ]
        }
      ]
    },
    {
      "cell_type": "code",
      "source": [
        "topic_names = ['anxiety/worry/sad',\n",
        " '1',\n",
        " '2',\n",
        " 'friend/family/miss',\n",
        " '4',\n",
        " 'therapy/enjoy/lead',\n",
        " 'sad/leave/back',\n",
        " 'stress/exam/thesis',\n",
        " '8',\n",
        " 'distressful/month/job',\n",
        " 'graduate/finally/happy',\n",
        " 'stress/dissertation/cry',\n",
        " '12',\n",
        " 'find/disorder/psychiatric',\n",
        " '14',\n",
        " '15',\n",
        " 'life/love/remember',\n",
        " 'fellowship/recovery/support',\n",
        " 'sad/news/hear',\n",
        " '19',\n",
        " 'young/academic/pressure',\n",
        " 'stress/dissertation/deadline',\n",
        " 'kind/supervisor/worry',\n",
        " 'work/lot/money',\n",
        " 'career/opportunity/graduate',\n",
        " 'year/end/burn',\n",
        " '26',\n",
        " 'year/crazy/degree',\n",
        " 'student/experience/live',\n",
        " '29']"
      ],
      "metadata": {
        "id": "MnU7j3gGLdcq"
      },
      "execution_count": null,
      "outputs": []
    },
    {
      "cell_type": "markdown",
      "source": [
        "## Topic Vector"
      ],
      "metadata": {
        "id": "16acKVbmMmd8"
      }
    },
    {
      "cell_type": "code",
      "source": [
        "df = pd.read_csv('twitter_data_sent.csv',parse_dates=['date','year','created'])"
      ],
      "metadata": {
        "id": "TQfevye0PoO9"
      },
      "execution_count": null,
      "outputs": []
    },
    {
      "cell_type": "code",
      "source": [
        "topics_docs = []\n",
        "for m in ldamallet[corpus]:\n",
        "    topics_docs.append(m)\n",
        "\n",
        "train_vecs = []\n",
        "for i in topics_docs:\n",
        "    topic_vec = [j[1] for j in i]\n",
        "    train_vecs.append(topic_vec) \n",
        "\n",
        "topic_dis = pd.DataFrame(train_vecs,columns=topic_names)\n",
        "topic_dis.head()\n",
        "\n",
        "df= pd.concat([df,topic_dis],axis = 1)\n",
        "df.head(2)"
      ],
      "metadata": {
        "colab": {
          "base_uri": "https://localhost:8080/",
          "height": 362
        },
        "id": "CTzu-f3wMkKF",
        "outputId": "74128d8c-cedd-4f33-e66a-3c5ad242ac6e"
      },
      "execution_count": null,
      "outputs": [
        {
          "output_type": "execute_result",
          "data": {
            "text/plain": [
              "        date                   created     user_id  \\\n",
              "0 2017-03-01 2017-03-01 00:18:37+00:00   106796486   \n",
              "1 2017-03-01 2017-03-01 10:13:30+00:00  2310165758   \n",
              "\n",
              "                                                text            tweet_id  \\\n",
              "0  Getting so stressed out about applying for gra...  836732371986755584   \n",
              "1  Finally coming to the realisation that my diss...  836882078692147200   \n",
              "\n",
              "   retweets  replies  likes  quotes        country  ...  \\\n",
              "0         1        0      1       0  Great Britain  ...   \n",
              "1         0        0      2       0  Great Britain  ...   \n",
              "\n",
              "  young/academic/pressure stress/dissertation/deadline kind/supervisor/worry  \\\n",
              "0                0.030303                     0.040404              0.030303   \n",
              "1                0.028736                     0.078544              0.028736   \n",
              "\n",
              "  work/lot/money career/opportunity/graduate year/end/burn        26  \\\n",
              "0       0.030303                    0.030303      0.030303  0.030303   \n",
              "1       0.028736                    0.030651      0.028736  0.028736   \n",
              "\n",
              "   year/crazy/degree  student/experience/live        29  \n",
              "0           0.030303                 0.030303  0.030303  \n",
              "1           0.028736                 0.028736  0.028736  \n",
              "\n",
              "[2 rows x 52 columns]"
            ],
            "text/html": [
              "\n",
              "  <div id=\"df-9e3f3d59-3906-479b-9e77-c9f48d8cbc46\">\n",
              "    <div class=\"colab-df-container\">\n",
              "      <div>\n",
              "<style scoped>\n",
              "    .dataframe tbody tr th:only-of-type {\n",
              "        vertical-align: middle;\n",
              "    }\n",
              "\n",
              "    .dataframe tbody tr th {\n",
              "        vertical-align: top;\n",
              "    }\n",
              "\n",
              "    .dataframe thead th {\n",
              "        text-align: right;\n",
              "    }\n",
              "</style>\n",
              "<table border=\"1\" class=\"dataframe\">\n",
              "  <thead>\n",
              "    <tr style=\"text-align: right;\">\n",
              "      <th></th>\n",
              "      <th>date</th>\n",
              "      <th>created</th>\n",
              "      <th>user_id</th>\n",
              "      <th>text</th>\n",
              "      <th>tweet_id</th>\n",
              "      <th>retweets</th>\n",
              "      <th>replies</th>\n",
              "      <th>likes</th>\n",
              "      <th>quotes</th>\n",
              "      <th>country</th>\n",
              "      <th>...</th>\n",
              "      <th>young/academic/pressure</th>\n",
              "      <th>stress/dissertation/deadline</th>\n",
              "      <th>kind/supervisor/worry</th>\n",
              "      <th>work/lot/money</th>\n",
              "      <th>career/opportunity/graduate</th>\n",
              "      <th>year/end/burn</th>\n",
              "      <th>26</th>\n",
              "      <th>year/crazy/degree</th>\n",
              "      <th>student/experience/live</th>\n",
              "      <th>29</th>\n",
              "    </tr>\n",
              "  </thead>\n",
              "  <tbody>\n",
              "    <tr>\n",
              "      <th>0</th>\n",
              "      <td>2017-03-01</td>\n",
              "      <td>2017-03-01 00:18:37+00:00</td>\n",
              "      <td>106796486</td>\n",
              "      <td>Getting so stressed out about applying for gra...</td>\n",
              "      <td>836732371986755584</td>\n",
              "      <td>1</td>\n",
              "      <td>0</td>\n",
              "      <td>1</td>\n",
              "      <td>0</td>\n",
              "      <td>Great Britain</td>\n",
              "      <td>...</td>\n",
              "      <td>0.030303</td>\n",
              "      <td>0.040404</td>\n",
              "      <td>0.030303</td>\n",
              "      <td>0.030303</td>\n",
              "      <td>0.030303</td>\n",
              "      <td>0.030303</td>\n",
              "      <td>0.030303</td>\n",
              "      <td>0.030303</td>\n",
              "      <td>0.030303</td>\n",
              "      <td>0.030303</td>\n",
              "    </tr>\n",
              "    <tr>\n",
              "      <th>1</th>\n",
              "      <td>2017-03-01</td>\n",
              "      <td>2017-03-01 10:13:30+00:00</td>\n",
              "      <td>2310165758</td>\n",
              "      <td>Finally coming to the realisation that my diss...</td>\n",
              "      <td>836882078692147200</td>\n",
              "      <td>0</td>\n",
              "      <td>0</td>\n",
              "      <td>2</td>\n",
              "      <td>0</td>\n",
              "      <td>Great Britain</td>\n",
              "      <td>...</td>\n",
              "      <td>0.028736</td>\n",
              "      <td>0.078544</td>\n",
              "      <td>0.028736</td>\n",
              "      <td>0.028736</td>\n",
              "      <td>0.030651</td>\n",
              "      <td>0.028736</td>\n",
              "      <td>0.028736</td>\n",
              "      <td>0.028736</td>\n",
              "      <td>0.028736</td>\n",
              "      <td>0.028736</td>\n",
              "    </tr>\n",
              "  </tbody>\n",
              "</table>\n",
              "<p>2 rows × 52 columns</p>\n",
              "</div>\n",
              "      <button class=\"colab-df-convert\" onclick=\"convertToInteractive('df-9e3f3d59-3906-479b-9e77-c9f48d8cbc46')\"\n",
              "              title=\"Convert this dataframe to an interactive table.\"\n",
              "              style=\"display:none;\">\n",
              "        \n",
              "  <svg xmlns=\"http://www.w3.org/2000/svg\" height=\"24px\"viewBox=\"0 0 24 24\"\n",
              "       width=\"24px\">\n",
              "    <path d=\"M0 0h24v24H0V0z\" fill=\"none\"/>\n",
              "    <path d=\"M18.56 5.44l.94 2.06.94-2.06 2.06-.94-2.06-.94-.94-2.06-.94 2.06-2.06.94zm-11 1L8.5 8.5l.94-2.06 2.06-.94-2.06-.94L8.5 2.5l-.94 2.06-2.06.94zm10 10l.94 2.06.94-2.06 2.06-.94-2.06-.94-.94-2.06-.94 2.06-2.06.94z\"/><path d=\"M17.41 7.96l-1.37-1.37c-.4-.4-.92-.59-1.43-.59-.52 0-1.04.2-1.43.59L10.3 9.45l-7.72 7.72c-.78.78-.78 2.05 0 2.83L4 21.41c.39.39.9.59 1.41.59.51 0 1.02-.2 1.41-.59l7.78-7.78 2.81-2.81c.8-.78.8-2.07 0-2.86zM5.41 20L4 18.59l7.72-7.72 1.47 1.35L5.41 20z\"/>\n",
              "  </svg>\n",
              "      </button>\n",
              "      \n",
              "  <style>\n",
              "    .colab-df-container {\n",
              "      display:flex;\n",
              "      flex-wrap:wrap;\n",
              "      gap: 12px;\n",
              "    }\n",
              "\n",
              "    .colab-df-convert {\n",
              "      background-color: #E8F0FE;\n",
              "      border: none;\n",
              "      border-radius: 50%;\n",
              "      cursor: pointer;\n",
              "      display: none;\n",
              "      fill: #1967D2;\n",
              "      height: 32px;\n",
              "      padding: 0 0 0 0;\n",
              "      width: 32px;\n",
              "    }\n",
              "\n",
              "    .colab-df-convert:hover {\n",
              "      background-color: #E2EBFA;\n",
              "      box-shadow: 0px 1px 2px rgba(60, 64, 67, 0.3), 0px 1px 3px 1px rgba(60, 64, 67, 0.15);\n",
              "      fill: #174EA6;\n",
              "    }\n",
              "\n",
              "    [theme=dark] .colab-df-convert {\n",
              "      background-color: #3B4455;\n",
              "      fill: #D2E3FC;\n",
              "    }\n",
              "\n",
              "    [theme=dark] .colab-df-convert:hover {\n",
              "      background-color: #434B5C;\n",
              "      box-shadow: 0px 1px 3px 1px rgba(0, 0, 0, 0.15);\n",
              "      filter: drop-shadow(0px 1px 2px rgba(0, 0, 0, 0.3));\n",
              "      fill: #FFFFFF;\n",
              "    }\n",
              "  </style>\n",
              "\n",
              "      <script>\n",
              "        const buttonEl =\n",
              "          document.querySelector('#df-9e3f3d59-3906-479b-9e77-c9f48d8cbc46 button.colab-df-convert');\n",
              "        buttonEl.style.display =\n",
              "          google.colab.kernel.accessAllowed ? 'block' : 'none';\n",
              "\n",
              "        async function convertToInteractive(key) {\n",
              "          const element = document.querySelector('#df-9e3f3d59-3906-479b-9e77-c9f48d8cbc46');\n",
              "          const dataTable =\n",
              "            await google.colab.kernel.invokeFunction('convertToInteractive',\n",
              "                                                     [key], {});\n",
              "          if (!dataTable) return;\n",
              "\n",
              "          const docLinkHtml = 'Like what you see? Visit the ' +\n",
              "            '<a target=\"_blank\" href=https://colab.research.google.com/notebooks/data_table.ipynb>data table notebook</a>'\n",
              "            + ' to learn more about interactive tables.';\n",
              "          element.innerHTML = '';\n",
              "          dataTable['output_type'] = 'display_data';\n",
              "          await google.colab.output.renderOutput(dataTable, element);\n",
              "          const docLink = document.createElement('div');\n",
              "          docLink.innerHTML = docLinkHtml;\n",
              "          element.appendChild(docLink);\n",
              "        }\n",
              "      </script>\n",
              "    </div>\n",
              "  </div>\n",
              "  "
            ]
          },
          "metadata": {},
          "execution_count": 143
        }
      ]
    },
    {
      "cell_type": "markdown",
      "source": [
        "## Word Vector"
      ],
      "metadata": {
        "id": "Azv_TXkLMuPl"
      }
    },
    {
      "cell_type": "code",
      "source": [
        "# Creat all the interested word for analysis\n",
        "Interesting_words = ['thesis','dissertation','paper','exam','deadline','due','study','work',\n",
        "                 'working','studying','talk','talking','therapy','therapist','colleague','friend',\n",
        "                'supervisor','family','friends','child','children','parents','book','sport','series','film',\n",
        "                 'music','park','travel','tell','share', 'job','career','sleep','sleeping','night','session','game','games',\n",
        "                 'lockdown','covid','isolation','virus','life','experience','money','love','kids','wine','sex','play']"
      ],
      "metadata": {
        "id": "aWDfC3fPMw0w"
      },
      "execution_count": null,
      "outputs": []
    },
    {
      "cell_type": "code",
      "source": [
        "for col in Interesting_words:\n",
        "    df[col]=df.text_nlp.apply(lambda x: int(col in str(x)))"
      ],
      "metadata": {
        "id": "lzOC61SYMzbZ"
      },
      "execution_count": null,
      "outputs": []
    },
    {
      "cell_type": "markdown",
      "source": [
        "## Country Vector"
      ],
      "metadata": {
        "id": "XTpvy504M2Ze"
      }
    },
    {
      "cell_type": "code",
      "source": [
        "country = list(df['country'].unique())"
      ],
      "metadata": {
        "id": "PhzttLAj5DlM"
      },
      "execution_count": null,
      "outputs": []
    },
    {
      "cell_type": "code",
      "source": [
        "# create country vector\n",
        "for col in country:\n",
        "    df[col]=df.country.apply(lambda x: int(str(x) == col))"
      ],
      "metadata": {
        "id": "pOcV1_DX5Pt1"
      },
      "execution_count": null,
      "outputs": []
    },
    {
      "cell_type": "markdown",
      "source": [
        "## Lasso Regression"
      ],
      "metadata": {
        "id": "TZvEm3WW5b-9"
      }
    },
    {
      "cell_type": "code",
      "source": [
        "from sklearn.linear_model import Lasso\n",
        "from sklearn.linear_model import LassoCV\n",
        "from sklearn.metrics import r2_score\n",
        "from sklearn.model_selection import train_test_split\n",
        "from sklearn.model_selection import GridSearchCV"
      ],
      "metadata": {
        "id": "1p86gHwU5aP6"
      },
      "execution_count": null,
      "outputs": []
    },
    {
      "cell_type": "code",
      "source": [
        "# run a lasso regression on all the variables and polarity\n",
        "X = df.drop(['date', 'created', 'user_id', 'text', 'tweet_id', 'retweets', 'replies',\n",
        "       'likes', 'quotes', 'country', 'quarter', 'year', 'covid', 'text_nlp',\n",
        "       'text_lem', 'text_nlp_e', 'text_lem_e', 'negative', 'neutral',\n",
        "       'positive', 'compound', 'sentiment'], 1)\n",
        "Y = df['compound']"
      ],
      "metadata": {
        "colab": {
          "base_uri": "https://localhost:8080/"
        },
        "id": "BcjblKhJ5pod",
        "outputId": "bc2f3cfb-f50d-4276-dec5-b4992ff6d07c"
      },
      "execution_count": null,
      "outputs": [
        {
          "output_type": "stream",
          "name": "stderr",
          "text": [
            "/usr/local/lib/python3.7/dist-packages/ipykernel_launcher.py:5: FutureWarning: In a future version of pandas all arguments of DataFrame.drop except for the argument 'labels' will be keyword-only\n",
            "  \"\"\"\n"
          ]
        }
      ]
    },
    {
      "cell_type": "code",
      "source": [
        "# train test split\n",
        "X_test,X_train,y_test,y_train=train_test_split(X,Y, test_size=0.3, random_state=31)"
      ],
      "metadata": {
        "id": "q2HV351W6Esc"
      },
      "execution_count": null,
      "outputs": []
    },
    {
      "cell_type": "code",
      "source": [
        "# run lassocv\n",
        "lasso = LassoCV(cv=10, random_state=0)\n",
        "lasso.fit(X_train, y_train)"
      ],
      "metadata": {
        "colab": {
          "base_uri": "https://localhost:8080/"
        },
        "id": "uqE-XI_Z6Hlj",
        "outputId": "c76f1be9-fd0c-498f-c73b-a66500a6e977"
      },
      "execution_count": null,
      "outputs": [
        {
          "output_type": "execute_result",
          "data": {
            "text/plain": [
              "LassoCV(cv=10, random_state=0)"
            ]
          },
          "metadata": {},
          "execution_count": 151
        }
      ]
    },
    {
      "cell_type": "code",
      "source": [
        "# predict y\n",
        "Y_pred = lasso.predict(X_test)"
      ],
      "metadata": {
        "id": "gMaGl9Ei6Jd9"
      },
      "execution_count": null,
      "outputs": []
    },
    {
      "cell_type": "code",
      "source": [
        "# performance\n",
        "train_score=lasso.score(X_train,y_train)\n",
        "test_score=lasso.score(X_test,y_test)\n",
        "print(train_score)\n",
        "print(test_score)"
      ],
      "metadata": {
        "colab": {
          "base_uri": "https://localhost:8080/"
        },
        "id": "2prsdjOY6O_U",
        "outputId": "1a59c7b9-0342-44b2-aae7-bfb7ff97f91e"
      },
      "execution_count": null,
      "outputs": [
        {
          "output_type": "stream",
          "name": "stdout",
          "text": [
            "0.22666710487005182\n",
            "0.1662114790046625\n"
          ]
        }
      ]
    },
    {
      "cell_type": "code",
      "source": [
        "# create a dictionary with feature and coeficient\n",
        "coef_dict = dict(zip(list(X.columns),list(list(lasso.coef_))))\n",
        "# rank feature by coeficient value\n",
        "import operator\n",
        "sorted_importance = sorted(coef_dict.items(), key=operator.itemgetter(1))\n",
        "sorted_importance"
      ],
      "metadata": {
        "colab": {
          "base_uri": "https://localhost:8080/"
        },
        "id": "CWYhXnas6Qa_",
        "outputId": "21df22fa-8cc8-4561-8fb1-db17eeeaeaca"
      },
      "execution_count": null,
      "outputs": [
        {
          "output_type": "execute_result",
          "data": {
            "text/plain": [
              "[('stress/dissertation/cry', -7.790893541477746),\n",
              " ('stress/exam/thesis', -6.301651353117704),\n",
              " ('sad/news/hear', -5.797405597266484),\n",
              " ('student/experience/live', -4.077598646993455),\n",
              " ('26', -2.393765440333704),\n",
              " ('distressful/month/job', -1.8364565830896407),\n",
              " ('life/love/remember', -1.7359028662702694),\n",
              " ('19', -1.139670670032181),\n",
              " ('young/academic/pressure', -0.36732203611659603),\n",
              " ('work/lot/money', -0.3653120961180746),\n",
              " ('sleeping', -0.2910929618846096),\n",
              " ('career', -0.29077173322651034),\n",
              " ('money', -0.24254206287827615),\n",
              " ('travel', -0.2134894258292629),\n",
              " ('studying', -0.20268741970004764),\n",
              " ('game', -0.17279667202195512),\n",
              " ('family', -0.15598573083619402),\n",
              " ('parents', -0.14599030855384273),\n",
              " ('lockdown', -0.1397767253540261),\n",
              " ('deadline', -0.1324827222427993),\n",
              " ('12', -0.10568416788682006),\n",
              " ('isolation', -0.10045753113590299),\n",
              " ('friends', -0.093845384272508),\n",
              " ('night', -0.08687449458613002),\n",
              " ('talking', -0.08286970066763813),\n",
              " ('due', -0.04290606506129918),\n",
              " ('book', -0.03829324454938234),\n",
              " ('dissertation', -0.03311841322723327),\n",
              " ('session', -0.026744593382294443),\n",
              " ('study', -0.020451648874287742),\n",
              " ('therapist', -0.007321043957279234),\n",
              " ('talk', -0.002985195010884853),\n",
              " ('1', -0.0),\n",
              " ('2', 0.0),\n",
              " ('4', -0.0),\n",
              " ('sad/leave/back', 0.0),\n",
              " ('find/disorder/psychiatric', -0.0),\n",
              " ('stress/dissertation/deadline', -0.0),\n",
              " ('year/end/burn', -0.0),\n",
              " ('year/crazy/degree', 0.0),\n",
              " ('child', -0.0),\n",
              " ('park', 0.0),\n",
              " ('games', 0.0),\n",
              " ('virus', 0.0),\n",
              " ('kids', 0.0),\n",
              " ('play', -0.0),\n",
              " ('France', -0.0),\n",
              " ('sport', 0.006715752307379929),\n",
              " ('exam', 0.01935240447731415),\n",
              " ('music', 0.023726279568030473),\n",
              " ('paper', 0.023924552842581673),\n",
              " ('colleague', 0.033422446680533104),\n",
              " ('Great Britain', 0.047391971648425006),\n",
              " ('job', 0.05965782478193263),\n",
              " ('working', 0.0626680079981613),\n",
              " ('supervisor', 0.06623080368221124),\n",
              " ('thesis', 0.08495202932913234),\n",
              " ('work', 0.10769587577321464),\n",
              " ('life', 0.11063911222024025),\n",
              " ('experience', 0.11374790549232672),\n",
              " ('tell', 0.12148346531442109),\n",
              " ('therapy', 0.1371409086079758),\n",
              " ('sleep', 0.1628196226028263),\n",
              " ('series', 0.20848251121587563),\n",
              " ('children', 0.24044522918669314),\n",
              " ('film', 0.28750552913524985),\n",
              " ('share', 0.3282507956856384),\n",
              " ('kind/supervisor/worry', 0.35252857101127355),\n",
              " ('friend', 0.3833317397612104),\n",
              " ('sex', 0.42767752864932534),\n",
              " ('wine', 0.47022853940771636),\n",
              " ('love', 0.5299145514811439),\n",
              " ('14', 0.9895592413677091),\n",
              " ('29', 1.3230534095885487),\n",
              " ('anxiety/worry/sad', 1.7074592644155444),\n",
              " ('15', 1.8114176225346958),\n",
              " ('friend/family/miss', 2.409366514559996),\n",
              " ('therapy/enjoy/lead', 3.0441064670930644),\n",
              " ('8', 3.3401787749689116),\n",
              " ('graduate/finally/happy', 3.735944209739981),\n",
              " ('fellowship/recovery/support', 4.292216802056593),\n",
              " ('career/opportunity/graduate', 8.377059563928466)]"
            ]
          },
          "metadata": {},
          "execution_count": 154
        }
      ]
    },
    {
      "cell_type": "markdown",
      "source": [
        "## Topic Modeling Analysis"
      ],
      "metadata": {
        "id": "RyYKTks060a5"
      }
    },
    {
      "cell_type": "code",
      "source": [
        "topic_list = df.columns[22:52]\n",
        "topic_mean = df.iloc[:,22:52].mean().values\n",
        "\n",
        "for i in range(len(topic_list)):\n",
        "    df[i] = np.where(df[topic_list[i]] > 0.08,1,0)\n",
        "    \n",
        "topic_polarity = list()\n",
        "for i in range(30):\n",
        "    topic_polarity.append(df[df[i]==1]['compound'].mean())\n",
        "    \n",
        "topic_polarity = pd.DataFrame({'Topics':topic_list,'Polarity':topic_polarity})\n",
        "topic_polarity = topic_polarity.sort_values(by = ['Polarity'])\n",
        "topic_polarity = topic_polarity.loc[(topic_polarity.Topics != '29') & (topic_polarity.Topics != '14') & (topic_polarity.Topics != '2') & (topic_polarity.Topics != '8') &\n",
        "                                (topic_polarity.Topics != '19') & (topic_polarity.Topics != '1') & (topic_polarity.Topics != '12') & (topic_polarity.Topics != '4') &\n",
        "                               ( topic_polarity.Topics != '15') & (topic_polarity.Topics != '26')].reset_index(drop=True)\n",
        "topic_polarity"
      ],
      "metadata": {
        "colab": {
          "base_uri": "https://localhost:8080/",
          "height": 677
        },
        "id": "wPtRTd6Y6V19",
        "outputId": "bb5a6ba2-2607-4b05-88a7-97c1ad9b94a4"
      },
      "execution_count": null,
      "outputs": [
        {
          "output_type": "execute_result",
          "data": {
            "text/plain": [
              "                          Topics  Polarity\n",
              "0        stress/dissertation/cry -0.178100\n",
              "1             stress/exam/thesis -0.160808\n",
              "2                  year/end/burn -0.075983\n",
              "3        student/experience/live -0.068049\n",
              "4   stress/dissertation/deadline -0.031729\n",
              "5                  sad/news/hear -0.024252\n",
              "6        young/academic/pressure -0.014470\n",
              "7          kind/supervisor/worry  0.025279\n",
              "8              year/crazy/degree  0.089803\n",
              "9      find/disorder/psychiatric  0.138300\n",
              "10         distressful/month/job  0.143731\n",
              "11             anxiety/worry/sad  0.251245\n",
              "12        graduate/finally/happy  0.258888\n",
              "13                sad/leave/back  0.281628\n",
              "14            life/love/remember  0.358017\n",
              "15            therapy/enjoy/lead  0.371212\n",
              "16                work/lot/money  0.397462\n",
              "17   fellowship/recovery/support  0.415307\n",
              "18   career/opportunity/graduate  0.488713\n",
              "19            friend/family/miss  0.693652"
            ],
            "text/html": [
              "\n",
              "  <div id=\"df-828da2ad-43f1-469e-a44a-76cad35f12d1\">\n",
              "    <div class=\"colab-df-container\">\n",
              "      <div>\n",
              "<style scoped>\n",
              "    .dataframe tbody tr th:only-of-type {\n",
              "        vertical-align: middle;\n",
              "    }\n",
              "\n",
              "    .dataframe tbody tr th {\n",
              "        vertical-align: top;\n",
              "    }\n",
              "\n",
              "    .dataframe thead th {\n",
              "        text-align: right;\n",
              "    }\n",
              "</style>\n",
              "<table border=\"1\" class=\"dataframe\">\n",
              "  <thead>\n",
              "    <tr style=\"text-align: right;\">\n",
              "      <th></th>\n",
              "      <th>Topics</th>\n",
              "      <th>Polarity</th>\n",
              "    </tr>\n",
              "  </thead>\n",
              "  <tbody>\n",
              "    <tr>\n",
              "      <th>0</th>\n",
              "      <td>stress/dissertation/cry</td>\n",
              "      <td>-0.178100</td>\n",
              "    </tr>\n",
              "    <tr>\n",
              "      <th>1</th>\n",
              "      <td>stress/exam/thesis</td>\n",
              "      <td>-0.160808</td>\n",
              "    </tr>\n",
              "    <tr>\n",
              "      <th>2</th>\n",
              "      <td>year/end/burn</td>\n",
              "      <td>-0.075983</td>\n",
              "    </tr>\n",
              "    <tr>\n",
              "      <th>3</th>\n",
              "      <td>student/experience/live</td>\n",
              "      <td>-0.068049</td>\n",
              "    </tr>\n",
              "    <tr>\n",
              "      <th>4</th>\n",
              "      <td>stress/dissertation/deadline</td>\n",
              "      <td>-0.031729</td>\n",
              "    </tr>\n",
              "    <tr>\n",
              "      <th>5</th>\n",
              "      <td>sad/news/hear</td>\n",
              "      <td>-0.024252</td>\n",
              "    </tr>\n",
              "    <tr>\n",
              "      <th>6</th>\n",
              "      <td>young/academic/pressure</td>\n",
              "      <td>-0.014470</td>\n",
              "    </tr>\n",
              "    <tr>\n",
              "      <th>7</th>\n",
              "      <td>kind/supervisor/worry</td>\n",
              "      <td>0.025279</td>\n",
              "    </tr>\n",
              "    <tr>\n",
              "      <th>8</th>\n",
              "      <td>year/crazy/degree</td>\n",
              "      <td>0.089803</td>\n",
              "    </tr>\n",
              "    <tr>\n",
              "      <th>9</th>\n",
              "      <td>find/disorder/psychiatric</td>\n",
              "      <td>0.138300</td>\n",
              "    </tr>\n",
              "    <tr>\n",
              "      <th>10</th>\n",
              "      <td>distressful/month/job</td>\n",
              "      <td>0.143731</td>\n",
              "    </tr>\n",
              "    <tr>\n",
              "      <th>11</th>\n",
              "      <td>anxiety/worry/sad</td>\n",
              "      <td>0.251245</td>\n",
              "    </tr>\n",
              "    <tr>\n",
              "      <th>12</th>\n",
              "      <td>graduate/finally/happy</td>\n",
              "      <td>0.258888</td>\n",
              "    </tr>\n",
              "    <tr>\n",
              "      <th>13</th>\n",
              "      <td>sad/leave/back</td>\n",
              "      <td>0.281628</td>\n",
              "    </tr>\n",
              "    <tr>\n",
              "      <th>14</th>\n",
              "      <td>life/love/remember</td>\n",
              "      <td>0.358017</td>\n",
              "    </tr>\n",
              "    <tr>\n",
              "      <th>15</th>\n",
              "      <td>therapy/enjoy/lead</td>\n",
              "      <td>0.371212</td>\n",
              "    </tr>\n",
              "    <tr>\n",
              "      <th>16</th>\n",
              "      <td>work/lot/money</td>\n",
              "      <td>0.397462</td>\n",
              "    </tr>\n",
              "    <tr>\n",
              "      <th>17</th>\n",
              "      <td>fellowship/recovery/support</td>\n",
              "      <td>0.415307</td>\n",
              "    </tr>\n",
              "    <tr>\n",
              "      <th>18</th>\n",
              "      <td>career/opportunity/graduate</td>\n",
              "      <td>0.488713</td>\n",
              "    </tr>\n",
              "    <tr>\n",
              "      <th>19</th>\n",
              "      <td>friend/family/miss</td>\n",
              "      <td>0.693652</td>\n",
              "    </tr>\n",
              "  </tbody>\n",
              "</table>\n",
              "</div>\n",
              "      <button class=\"colab-df-convert\" onclick=\"convertToInteractive('df-828da2ad-43f1-469e-a44a-76cad35f12d1')\"\n",
              "              title=\"Convert this dataframe to an interactive table.\"\n",
              "              style=\"display:none;\">\n",
              "        \n",
              "  <svg xmlns=\"http://www.w3.org/2000/svg\" height=\"24px\"viewBox=\"0 0 24 24\"\n",
              "       width=\"24px\">\n",
              "    <path d=\"M0 0h24v24H0V0z\" fill=\"none\"/>\n",
              "    <path d=\"M18.56 5.44l.94 2.06.94-2.06 2.06-.94-2.06-.94-.94-2.06-.94 2.06-2.06.94zm-11 1L8.5 8.5l.94-2.06 2.06-.94-2.06-.94L8.5 2.5l-.94 2.06-2.06.94zm10 10l.94 2.06.94-2.06 2.06-.94-2.06-.94-.94-2.06-.94 2.06-2.06.94z\"/><path d=\"M17.41 7.96l-1.37-1.37c-.4-.4-.92-.59-1.43-.59-.52 0-1.04.2-1.43.59L10.3 9.45l-7.72 7.72c-.78.78-.78 2.05 0 2.83L4 21.41c.39.39.9.59 1.41.59.51 0 1.02-.2 1.41-.59l7.78-7.78 2.81-2.81c.8-.78.8-2.07 0-2.86zM5.41 20L4 18.59l7.72-7.72 1.47 1.35L5.41 20z\"/>\n",
              "  </svg>\n",
              "      </button>\n",
              "      \n",
              "  <style>\n",
              "    .colab-df-container {\n",
              "      display:flex;\n",
              "      flex-wrap:wrap;\n",
              "      gap: 12px;\n",
              "    }\n",
              "\n",
              "    .colab-df-convert {\n",
              "      background-color: #E8F0FE;\n",
              "      border: none;\n",
              "      border-radius: 50%;\n",
              "      cursor: pointer;\n",
              "      display: none;\n",
              "      fill: #1967D2;\n",
              "      height: 32px;\n",
              "      padding: 0 0 0 0;\n",
              "      width: 32px;\n",
              "    }\n",
              "\n",
              "    .colab-df-convert:hover {\n",
              "      background-color: #E2EBFA;\n",
              "      box-shadow: 0px 1px 2px rgba(60, 64, 67, 0.3), 0px 1px 3px 1px rgba(60, 64, 67, 0.15);\n",
              "      fill: #174EA6;\n",
              "    }\n",
              "\n",
              "    [theme=dark] .colab-df-convert {\n",
              "      background-color: #3B4455;\n",
              "      fill: #D2E3FC;\n",
              "    }\n",
              "\n",
              "    [theme=dark] .colab-df-convert:hover {\n",
              "      background-color: #434B5C;\n",
              "      box-shadow: 0px 1px 3px 1px rgba(0, 0, 0, 0.15);\n",
              "      filter: drop-shadow(0px 1px 2px rgba(0, 0, 0, 0.3));\n",
              "      fill: #FFFFFF;\n",
              "    }\n",
              "  </style>\n",
              "\n",
              "      <script>\n",
              "        const buttonEl =\n",
              "          document.querySelector('#df-828da2ad-43f1-469e-a44a-76cad35f12d1 button.colab-df-convert');\n",
              "        buttonEl.style.display =\n",
              "          google.colab.kernel.accessAllowed ? 'block' : 'none';\n",
              "\n",
              "        async function convertToInteractive(key) {\n",
              "          const element = document.querySelector('#df-828da2ad-43f1-469e-a44a-76cad35f12d1');\n",
              "          const dataTable =\n",
              "            await google.colab.kernel.invokeFunction('convertToInteractive',\n",
              "                                                     [key], {});\n",
              "          if (!dataTable) return;\n",
              "\n",
              "          const docLinkHtml = 'Like what you see? Visit the ' +\n",
              "            '<a target=\"_blank\" href=https://colab.research.google.com/notebooks/data_table.ipynb>data table notebook</a>'\n",
              "            + ' to learn more about interactive tables.';\n",
              "          element.innerHTML = '';\n",
              "          dataTable['output_type'] = 'display_data';\n",
              "          await google.colab.output.renderOutput(dataTable, element);\n",
              "          const docLink = document.createElement('div');\n",
              "          docLink.innerHTML = docLinkHtml;\n",
              "          element.appendChild(docLink);\n",
              "        }\n",
              "      </script>\n",
              "    </div>\n",
              "  </div>\n",
              "  "
            ]
          },
          "metadata": {},
          "execution_count": 220
        }
      ]
    },
    {
      "cell_type": "code",
      "source": [
        "positive = topic_polarity[topic_polarity['Polarity']>0.2].index\n",
        "mild = topic_polarity[(topic_polarity['Polarity']>0) &(topic_polarity['Polarity']<=0.2)].index"
      ],
      "metadata": {
        "id": "vrctHSIDaMDF"
      },
      "execution_count": null,
      "outputs": []
    },
    {
      "cell_type": "code",
      "source": [
        "fig, ax = plt.subplots(figsize=(10,12))\n",
        "barlist =plt.barh(range(len(topic_polarity['Polarity'])), topic_polarity['Polarity'],color = 'grey')\n",
        "ax.set_yticks(range(len(topic_polarity['Polarity'])))\n",
        "ax.set_yticklabels(topic_polarity['Topics'])\n",
        "plt.rc('xtick', labelsize=10) \n",
        "for word in positive:\n",
        "    barlist[word].set_color('lightcoral')\n",
        "for word in mild:\n",
        "    barlist[word].set_color('rosybrown')\n",
        "plt.title('The average polarity of all Tweets containing a topic')"
      ],
      "metadata": {
        "colab": {
          "base_uri": "https://localhost:8080/",
          "height": 734
        },
        "id": "NXQ_ggLvZyRV",
        "outputId": "3f311726-93b4-4183-d837-e856f4de6c43"
      },
      "execution_count": null,
      "outputs": [
        {
          "output_type": "execute_result",
          "data": {
            "text/plain": [
              "Text(0.5, 1.0, 'The average polarity of all Tweets containing a topic')"
            ]
          },
          "metadata": {},
          "execution_count": 222
        },
        {
          "output_type": "display_data",
          "data": {
            "text/plain": [
              "<Figure size 720x864 with 1 Axes>"
            ],
            "image/png": "[encoded data removed]"
          },
          "metadata": {
            "needs_background": "light"
          }
        }
      ]
    },
    {
      "cell_type": "markdown",
      "source": [
        "## Single-word analysis"
      ],
      "metadata": {
        "id": "Q8xc9hgCT67H"
      }
    },
    {
      "cell_type": "code",
      "source": [
        "special_words = ['thesis','dissertation','paper','exam','deadline','due','study','work',\n",
        "                 'working','studying','talk','talking','therapy','therapist','colleague','friend',\n",
        "                'supervisor','friends','child','children','parents','book','sport','series',\n",
        "                 'music','tell','share', 'job','career','sleep','sleeping','night','session','game',\n",
        "                 'lockdown','covid', 'life','experience','money','love','wine','play']\n",
        "avg_polarity = list()\n",
        "num_texts = list()\n",
        "for word in special_words:\n",
        "    avg_polarity.append(df[df['text_nlp'].str.match(word, na=False)]['compound'].mean())\n",
        "    num_texts.append(len(df[df['text_nlp'].str.match(word, na=False)]))"
      ],
      "metadata": {
        "id": "Ix0wJQnA7Sv1"
      },
      "execution_count": null,
      "outputs": []
    },
    {
      "cell_type": "code",
      "source": [
        "activity = pd.DataFrame()\n",
        "activity['activity'] = special_words\n",
        "activity['avg_polarity'] = avg_polarity\n",
        "activity['num_texts'] = num_texts\n",
        "activity= activity.sort_values(by = ['avg_polarity'],ascending = True)\n",
        "activity.reset_index(inplace = True)\n",
        "activity.drop('index',axis = 1,inplace = True)"
      ],
      "metadata": {
        "id": "wDR97Va-UQQB"
      },
      "execution_count": null,
      "outputs": []
    },
    {
      "cell_type": "code",
      "source": [
        "positive = activity[activity['avg_polarity']>0.2].index\n",
        "mild = activity[(activity['avg_polarity']>0) &(activity['avg_polarity']<=0.2)].index"
      ],
      "metadata": {
        "id": "Ver56fcOUwLF"
      },
      "execution_count": null,
      "outputs": []
    },
    {
      "cell_type": "code",
      "source": [
        "fig, ax = plt.subplots(figsize=(10,12))\n",
        "barlist =plt.barh(range(len(activity['avg_polarity'])), activity['avg_polarity'],color = 'grey')\n",
        "ax.set_yticks(range(len(activity['avg_polarity'])))\n",
        "ax.set_yticklabels(activity['activity'])\n",
        "plt.rc('xtick', labelsize=10) \n",
        "for word in positive:\n",
        "    barlist[word].set_color('lightcoral')\n",
        "for word in mild:\n",
        "    barlist[word].set_color('rosybrown')\n",
        "plt.title('The average polarity of all Tweets containing a keyword')"
      ],
      "metadata": {
        "colab": {
          "base_uri": "https://localhost:8080/",
          "height": 734
        },
        "id": "5U-uogevU0U0",
        "outputId": "20235a5c-dff7-4b75-98f7-82ccd27d7545"
      },
      "execution_count": null,
      "outputs": [
        {
          "output_type": "execute_result",
          "data": {
            "text/plain": [
              "Text(0.5, 1.0, 'The average polarity of all Tweets containing a keyword')"
            ]
          },
          "metadata": {},
          "execution_count": 197
        },
        {
          "output_type": "display_data",
          "data": {
            "text/plain": [
              "<Figure size 720x864 with 1 Axes>"
            ],
            "image/png": "[encoded data removed]"
          },
          "metadata": {
            "needs_background": "light"
          }
        }
      ]
    }
  ],
  "metadata": {
    "language_info": {
      "name": "python"
    },
    "orig_nbformat": 4,
    "colab": {
      "name": "topic_modelling.ipynb",
      "provenance": [],
      "collapsed_sections": []
    },
    "kernelspec": {
      "name": "python3",
      "display_name": "Python 3"
    },
    "gpuClass": "standard"
  },
  "nbformat": 4,
  "nbformat_minor": 0
}