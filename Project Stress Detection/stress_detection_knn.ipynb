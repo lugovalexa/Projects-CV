{
 "cells": [
  {
   "cell_type": "markdown",
   "metadata": {},
   "source": [
    "# Stress detection"
   ]
  },
  {
   "cell_type": "markdown",
   "metadata": {},
   "source": [
    "## Importing libraries"
   ]
  },
  {
   "cell_type": "code",
   "execution_count": 1,
   "metadata": {},
   "outputs": [],
   "source": [
    "import pandas as pd\n",
    "import numpy as np\n",
    "from sklearn.linear_model import LogisticRegressionCV\n",
    "from sklearn.model_selection import train_test_split\n",
    "from sklearn.feature_selection import SelectFromModel\n",
    "from sklearn.feature_selection import VarianceThreshold\n",
    "from sklearn.ensemble import RandomForestClassifier\n",
    "from sklearn.ensemble import GradientBoostingClassifier\n",
    "from sklearn.feature_selection import SelectFromModel\n",
    "from sklearn.naive_bayes import GaussianNB\n",
    "from sklearn import tree\n",
    "from sklearn.metrics import accuracy_score\n",
    "from sklearn.neighbors import KNeighborsClassifier\n",
    "import warnings\n",
    "warnings.filterwarnings(\"ignore\")"
   ]
  },
  {
   "cell_type": "markdown",
   "metadata": {},
   "source": [
    "## Importing data"
   ]
  },
  {
   "cell_type": "code",
   "execution_count": 2,
   "metadata": {},
   "outputs": [],
   "source": [
    "df = pd.read_csv('datasets/FeaturesDatabase.csv', parse_dates=['datetime'])"
   ]
  },
  {
   "cell_type": "code",
   "execution_count": 3,
   "metadata": {},
   "outputs": [],
   "source": [
    "df = df.drop(columns = ['ID','datetime'])"
   ]
  },
  {
   "cell_type": "code",
   "execution_count": 4,
   "metadata": {},
   "outputs": [],
   "source": [
    "df = df.loc[(df.tag == 1) | (df.tag == 2) | (df.tag == 3)].reset_index(drop=True)"
   ]
  },
  {
   "cell_type": "code",
   "execution_count": 5,
   "metadata": {},
   "outputs": [
    {
     "data": {
      "text/html": [
       "<div>\n",
       "<style scoped>\n",
       "    .dataframe tbody tr th:only-of-type {\n",
       "        vertical-align: middle;\n",
       "    }\n",
       "\n",
       "    .dataframe tbody tr th {\n",
       "        vertical-align: top;\n",
       "    }\n",
       "\n",
       "    .dataframe thead th {\n",
       "        text-align: right;\n",
       "    }\n",
       "</style>\n",
       "<table border=\"1\" class=\"dataframe\">\n",
       "  <thead>\n",
       "    <tr style=\"text-align: right;\">\n",
       "      <th></th>\n",
       "      <th>tonic_mean</th>\n",
       "      <th>tonic_std</th>\n",
       "      <th>tonic_min</th>\n",
       "      <th>tonic_max</th>\n",
       "      <th>tonic_kurtosis</th>\n",
       "      <th>tonic_peaks</th>\n",
       "      <th>tonic_n_sign_changes</th>\n",
       "      <th>tonic_entropy</th>\n",
       "      <th>phasic_mean</th>\n",
       "      <th>phasic_std</th>\n",
       "      <th>...</th>\n",
       "      <th>bvp_min</th>\n",
       "      <th>bvp_max</th>\n",
       "      <th>bvp_std</th>\n",
       "      <th>bvp_peaks</th>\n",
       "      <th>bvp_sign_changes</th>\n",
       "      <th>temp_mean</th>\n",
       "      <th>temp_min</th>\n",
       "      <th>temp_max</th>\n",
       "      <th>temp_std</th>\n",
       "      <th>tag</th>\n",
       "    </tr>\n",
       "  </thead>\n",
       "  <tbody>\n",
       "    <tr>\n",
       "      <th>0</th>\n",
       "      <td>1.217555e-01</td>\n",
       "      <td>1.110994e-02</td>\n",
       "      <td>0.109972</td>\n",
       "      <td>1.398770e-01</td>\n",
       "      <td>-1.335396</td>\n",
       "      <td>0.0</td>\n",
       "      <td>0.0</td>\n",
       "      <td>5.476544</td>\n",
       "      <td>3.966073e-03</td>\n",
       "      <td>6.319387e-03</td>\n",
       "      <td>...</td>\n",
       "      <td>-100.3250</td>\n",
       "      <td>92.270781</td>\n",
       "      <td>23.415148</td>\n",
       "      <td>17.0</td>\n",
       "      <td>29.0</td>\n",
       "      <td>31.619000</td>\n",
       "      <td>31.59</td>\n",
       "      <td>31.65</td>\n",
       "      <td>0.015806</td>\n",
       "      <td>3</td>\n",
       "    </tr>\n",
       "    <tr>\n",
       "      <th>1</th>\n",
       "      <td>1.211121e-01</td>\n",
       "      <td>1.058294e-02</td>\n",
       "      <td>0.109623</td>\n",
       "      <td>1.400274e-01</td>\n",
       "      <td>-1.026073</td>\n",
       "      <td>0.0</td>\n",
       "      <td>0.0</td>\n",
       "      <td>5.476902</td>\n",
       "      <td>4.134432e-03</td>\n",
       "      <td>6.859174e-03</td>\n",
       "      <td>...</td>\n",
       "      <td>-100.3250</td>\n",
       "      <td>92.270781</td>\n",
       "      <td>23.419873</td>\n",
       "      <td>18.0</td>\n",
       "      <td>29.0</td>\n",
       "      <td>31.619000</td>\n",
       "      <td>31.59</td>\n",
       "      <td>31.65</td>\n",
       "      <td>0.015806</td>\n",
       "      <td>3</td>\n",
       "    </tr>\n",
       "    <tr>\n",
       "      <th>2</th>\n",
       "      <td>1.206340e-01</td>\n",
       "      <td>1.034728e-02</td>\n",
       "      <td>0.110152</td>\n",
       "      <td>1.398311e-01</td>\n",
       "      <td>-0.887069</td>\n",
       "      <td>0.0</td>\n",
       "      <td>0.0</td>\n",
       "      <td>5.477046</td>\n",
       "      <td>4.425717e-03</td>\n",
       "      <td>7.012810e-03</td>\n",
       "      <td>...</td>\n",
       "      <td>-100.3250</td>\n",
       "      <td>92.270781</td>\n",
       "      <td>23.411065</td>\n",
       "      <td>17.0</td>\n",
       "      <td>30.0</td>\n",
       "      <td>31.618667</td>\n",
       "      <td>31.59</td>\n",
       "      <td>31.65</td>\n",
       "      <td>0.015345</td>\n",
       "      <td>3</td>\n",
       "    </tr>\n",
       "    <tr>\n",
       "      <th>3</th>\n",
       "      <td>1.202648e-01</td>\n",
       "      <td>1.027256e-02</td>\n",
       "      <td>0.109644</td>\n",
       "      <td>1.397805e-01</td>\n",
       "      <td>-0.850265</td>\n",
       "      <td>0.0</td>\n",
       "      <td>0.0</td>\n",
       "      <td>5.477077</td>\n",
       "      <td>4.757627e-03</td>\n",
       "      <td>7.258606e-03</td>\n",
       "      <td>...</td>\n",
       "      <td>-100.3250</td>\n",
       "      <td>92.270781</td>\n",
       "      <td>22.234918</td>\n",
       "      <td>17.0</td>\n",
       "      <td>29.0</td>\n",
       "      <td>31.619000</td>\n",
       "      <td>31.59</td>\n",
       "      <td>31.65</td>\n",
       "      <td>0.015806</td>\n",
       "      <td>3</td>\n",
       "    </tr>\n",
       "    <tr>\n",
       "      <th>4</th>\n",
       "      <td>1.199976e-01</td>\n",
       "      <td>1.017837e-02</td>\n",
       "      <td>0.110638</td>\n",
       "      <td>1.398852e-01</td>\n",
       "      <td>-0.800499</td>\n",
       "      <td>0.0</td>\n",
       "      <td>0.0</td>\n",
       "      <td>5.477129</td>\n",
       "      <td>5.296997e-03</td>\n",
       "      <td>8.345932e-03</td>\n",
       "      <td>...</td>\n",
       "      <td>-100.3250</td>\n",
       "      <td>92.270781</td>\n",
       "      <td>19.516206</td>\n",
       "      <td>18.0</td>\n",
       "      <td>29.0</td>\n",
       "      <td>31.619333</td>\n",
       "      <td>31.59</td>\n",
       "      <td>31.65</td>\n",
       "      <td>0.016247</td>\n",
       "      <td>3</td>\n",
       "    </tr>\n",
       "    <tr>\n",
       "      <th>...</th>\n",
       "      <td>...</td>\n",
       "      <td>...</td>\n",
       "      <td>...</td>\n",
       "      <td>...</td>\n",
       "      <td>...</td>\n",
       "      <td>...</td>\n",
       "      <td>...</td>\n",
       "      <td>...</td>\n",
       "      <td>...</td>\n",
       "      <td>...</td>\n",
       "      <td>...</td>\n",
       "      <td>...</td>\n",
       "      <td>...</td>\n",
       "      <td>...</td>\n",
       "      <td>...</td>\n",
       "      <td>...</td>\n",
       "      <td>...</td>\n",
       "      <td>...</td>\n",
       "      <td>...</td>\n",
       "      <td>...</td>\n",
       "      <td>...</td>\n",
       "    </tr>\n",
       "    <tr>\n",
       "      <th>360867</th>\n",
       "      <td>-5.185897e-07</td>\n",
       "      <td>3.029454e-07</td>\n",
       "      <td>-0.000001</td>\n",
       "      <td>4.370949e-08</td>\n",
       "      <td>0.936544</td>\n",
       "      <td>0.0</td>\n",
       "      <td>1.0</td>\n",
       "      <td>-inf</td>\n",
       "      <td>5.185897e-07</td>\n",
       "      <td>3.957395e-07</td>\n",
       "      <td>...</td>\n",
       "      <td>-0.5075</td>\n",
       "      <td>0.609219</td>\n",
       "      <td>0.277044</td>\n",
       "      <td>3.0</td>\n",
       "      <td>37.0</td>\n",
       "      <td>23.263333</td>\n",
       "      <td>23.25</td>\n",
       "      <td>23.29</td>\n",
       "      <td>0.012026</td>\n",
       "      <td>3</td>\n",
       "    </tr>\n",
       "    <tr>\n",
       "      <th>360868</th>\n",
       "      <td>-5.185897e-07</td>\n",
       "      <td>3.029454e-07</td>\n",
       "      <td>-0.000001</td>\n",
       "      <td>4.370949e-08</td>\n",
       "      <td>0.936544</td>\n",
       "      <td>0.0</td>\n",
       "      <td>1.0</td>\n",
       "      <td>-inf</td>\n",
       "      <td>5.185897e-07</td>\n",
       "      <td>3.957395e-07</td>\n",
       "      <td>...</td>\n",
       "      <td>-0.5075</td>\n",
       "      <td>0.609219</td>\n",
       "      <td>0.267675</td>\n",
       "      <td>3.0</td>\n",
       "      <td>36.0</td>\n",
       "      <td>23.263333</td>\n",
       "      <td>23.25</td>\n",
       "      <td>23.29</td>\n",
       "      <td>0.012026</td>\n",
       "      <td>3</td>\n",
       "    </tr>\n",
       "    <tr>\n",
       "      <th>360869</th>\n",
       "      <td>-5.185897e-07</td>\n",
       "      <td>3.029454e-07</td>\n",
       "      <td>-0.000001</td>\n",
       "      <td>4.370949e-08</td>\n",
       "      <td>0.936544</td>\n",
       "      <td>0.0</td>\n",
       "      <td>1.0</td>\n",
       "      <td>-inf</td>\n",
       "      <td>5.185897e-07</td>\n",
       "      <td>3.957395e-07</td>\n",
       "      <td>...</td>\n",
       "      <td>-0.5075</td>\n",
       "      <td>0.609219</td>\n",
       "      <td>0.269484</td>\n",
       "      <td>3.0</td>\n",
       "      <td>37.0</td>\n",
       "      <td>23.263667</td>\n",
       "      <td>23.25</td>\n",
       "      <td>23.29</td>\n",
       "      <td>0.011927</td>\n",
       "      <td>3</td>\n",
       "    </tr>\n",
       "    <tr>\n",
       "      <th>360870</th>\n",
       "      <td>-5.185897e-07</td>\n",
       "      <td>3.029454e-07</td>\n",
       "      <td>-0.000001</td>\n",
       "      <td>4.370949e-08</td>\n",
       "      <td>0.936544</td>\n",
       "      <td>0.0</td>\n",
       "      <td>1.0</td>\n",
       "      <td>-inf</td>\n",
       "      <td>5.185897e-07</td>\n",
       "      <td>3.957395e-07</td>\n",
       "      <td>...</td>\n",
       "      <td>-0.5075</td>\n",
       "      <td>0.609219</td>\n",
       "      <td>0.273738</td>\n",
       "      <td>3.0</td>\n",
       "      <td>37.0</td>\n",
       "      <td>23.263000</td>\n",
       "      <td>23.23</td>\n",
       "      <td>23.29</td>\n",
       "      <td>0.012663</td>\n",
       "      <td>3</td>\n",
       "    </tr>\n",
       "    <tr>\n",
       "      <th>360871</th>\n",
       "      <td>-5.185897e-07</td>\n",
       "      <td>3.029454e-07</td>\n",
       "      <td>-0.000001</td>\n",
       "      <td>4.370949e-08</td>\n",
       "      <td>0.936544</td>\n",
       "      <td>0.0</td>\n",
       "      <td>1.0</td>\n",
       "      <td>-inf</td>\n",
       "      <td>5.185897e-07</td>\n",
       "      <td>3.957395e-07</td>\n",
       "      <td>...</td>\n",
       "      <td>-0.5075</td>\n",
       "      <td>0.673594</td>\n",
       "      <td>0.282520</td>\n",
       "      <td>3.0</td>\n",
       "      <td>38.0</td>\n",
       "      <td>23.262667</td>\n",
       "      <td>23.23</td>\n",
       "      <td>23.29</td>\n",
       "      <td>0.012738</td>\n",
       "      <td>3</td>\n",
       "    </tr>\n",
       "  </tbody>\n",
       "</table>\n",
       "<p>360872 rows × 51 columns</p>\n",
       "</div>"
      ],
      "text/plain": [
       "          tonic_mean     tonic_std  tonic_min     tonic_max  tonic_kurtosis  \\\n",
       "0       1.217555e-01  1.110994e-02   0.109972  1.398770e-01       -1.335396   \n",
       "1       1.211121e-01  1.058294e-02   0.109623  1.400274e-01       -1.026073   \n",
       "2       1.206340e-01  1.034728e-02   0.110152  1.398311e-01       -0.887069   \n",
       "3       1.202648e-01  1.027256e-02   0.109644  1.397805e-01       -0.850265   \n",
       "4       1.199976e-01  1.017837e-02   0.110638  1.398852e-01       -0.800499   \n",
       "...              ...           ...        ...           ...             ...   \n",
       "360867 -5.185897e-07  3.029454e-07  -0.000001  4.370949e-08        0.936544   \n",
       "360868 -5.185897e-07  3.029454e-07  -0.000001  4.370949e-08        0.936544   \n",
       "360869 -5.185897e-07  3.029454e-07  -0.000001  4.370949e-08        0.936544   \n",
       "360870 -5.185897e-07  3.029454e-07  -0.000001  4.370949e-08        0.936544   \n",
       "360871 -5.185897e-07  3.029454e-07  -0.000001  4.370949e-08        0.936544   \n",
       "\n",
       "        tonic_peaks  tonic_n_sign_changes  tonic_entropy   phasic_mean  \\\n",
       "0               0.0                   0.0       5.476544  3.966073e-03   \n",
       "1               0.0                   0.0       5.476902  4.134432e-03   \n",
       "2               0.0                   0.0       5.477046  4.425717e-03   \n",
       "3               0.0                   0.0       5.477077  4.757627e-03   \n",
       "4               0.0                   0.0       5.477129  5.296997e-03   \n",
       "...             ...                   ...            ...           ...   \n",
       "360867          0.0                   1.0           -inf  5.185897e-07   \n",
       "360868          0.0                   1.0           -inf  5.185897e-07   \n",
       "360869          0.0                   1.0           -inf  5.185897e-07   \n",
       "360870          0.0                   1.0           -inf  5.185897e-07   \n",
       "360871          0.0                   1.0           -inf  5.185897e-07   \n",
       "\n",
       "          phasic_std  ...   bvp_min    bvp_max    bvp_std  bvp_peaks  \\\n",
       "0       6.319387e-03  ... -100.3250  92.270781  23.415148       17.0   \n",
       "1       6.859174e-03  ... -100.3250  92.270781  23.419873       18.0   \n",
       "2       7.012810e-03  ... -100.3250  92.270781  23.411065       17.0   \n",
       "3       7.258606e-03  ... -100.3250  92.270781  22.234918       17.0   \n",
       "4       8.345932e-03  ... -100.3250  92.270781  19.516206       18.0   \n",
       "...              ...  ...       ...        ...        ...        ...   \n",
       "360867  3.957395e-07  ...   -0.5075   0.609219   0.277044        3.0   \n",
       "360868  3.957395e-07  ...   -0.5075   0.609219   0.267675        3.0   \n",
       "360869  3.957395e-07  ...   -0.5075   0.609219   0.269484        3.0   \n",
       "360870  3.957395e-07  ...   -0.5075   0.609219   0.273738        3.0   \n",
       "360871  3.957395e-07  ...   -0.5075   0.673594   0.282520        3.0   \n",
       "\n",
       "        bvp_sign_changes  temp_mean  temp_min  temp_max  temp_std  tag  \n",
       "0                   29.0  31.619000     31.59     31.65  0.015806    3  \n",
       "1                   29.0  31.619000     31.59     31.65  0.015806    3  \n",
       "2                   30.0  31.618667     31.59     31.65  0.015345    3  \n",
       "3                   29.0  31.619000     31.59     31.65  0.015806    3  \n",
       "4                   29.0  31.619333     31.59     31.65  0.016247    3  \n",
       "...                  ...        ...       ...       ...       ...  ...  \n",
       "360867              37.0  23.263333     23.25     23.29  0.012026    3  \n",
       "360868              36.0  23.263333     23.25     23.29  0.012026    3  \n",
       "360869              37.0  23.263667     23.25     23.29  0.011927    3  \n",
       "360870              37.0  23.263000     23.23     23.29  0.012663    3  \n",
       "360871              38.0  23.262667     23.23     23.29  0.012738    3  \n",
       "\n",
       "[360872 rows x 51 columns]"
      ]
     },
     "execution_count": 5,
     "metadata": {},
     "output_type": "execute_result"
    }
   ],
   "source": [
    "df"
   ]
  },
  {
   "cell_type": "code",
   "execution_count": 6,
   "metadata": {},
   "outputs": [
    {
     "data": {
      "text/plain": [
       "3    323314\n",
       "1     19276\n",
       "2     18282\n",
       "Name: tag, dtype: int64"
      ]
     },
     "execution_count": 6,
     "metadata": {},
     "output_type": "execute_result"
    }
   ],
   "source": [
    "df['tag'].value_counts()"
   ]
  },
  {
   "cell_type": "markdown",
   "metadata": {},
   "source": [
    "## Features selection"
   ]
  },
  {
   "cell_type": "markdown",
   "metadata": {},
   "source": [
    "### Creating train and test datasets"
   ]
  },
  {
   "cell_type": "code",
   "execution_count": 7,
   "metadata": {},
   "outputs": [
    {
     "data": {
      "text/plain": [
       "((252610, 50), (108262, 50))"
      ]
     },
     "execution_count": 7,
     "metadata": {},
     "output_type": "execute_result"
    }
   ],
   "source": [
    "X_train, X_test, y_train, y_test = train_test_split(\n",
    "    df.drop(labels=['tag'], axis=1),\n",
    "    df['tag'],\n",
    "    test_size=0.3,\n",
    "    random_state=0)\n",
    "\n",
    "X_train.shape, X_test.shape"
   ]
  },
  {
   "cell_type": "code",
   "execution_count": 8,
   "metadata": {},
   "outputs": [],
   "source": [
    "# dealing with infinite values\n",
    "X_train = X_train.replace((np.inf), 9999.999).reset_index(drop=True)\n",
    "X_test = X_test.replace((np.inf), 9999.999).reset_index(drop=True)\n",
    "X_train = X_train.replace((-np.inf), -9999.999).reset_index(drop=True)\n",
    "X_test = X_test.replace((-np.inf), -9999.999).reset_index(drop=True)"
   ]
  },
  {
   "cell_type": "code",
   "execution_count": 9,
   "metadata": {},
   "outputs": [],
   "source": [
    "# keep a copy of the dataset with all the variables to measure the performance of machine learning models at the end \n",
    "X_train_original = X_train.copy()\n",
    "X_test_original = X_test.copy()"
   ]
  },
  {
   "cell_type": "code",
   "execution_count": 10,
   "metadata": {},
   "outputs": [
    {
     "data": {
      "text/plain": [
       "Index(['tonic_mean', 'tonic_std', 'tonic_min', 'tonic_max', 'tonic_kurtosis',\n",
       "       'tonic_peaks', 'tonic_n_sign_changes', 'tonic_entropy', 'phasic_mean',\n",
       "       'phasic_std', 'phasic_min', 'phasic_max', 'phasic_kurtosis',\n",
       "       'phasic_peaks', 'phasic_n_sign_changes', 'phasic_entropy', 'acc_x_mean',\n",
       "       'acc_x_std', 'acc_x_min', 'acc_x_max', 'acc_x_kurtosis', 'acc_x_peaks',\n",
       "       'acc_x_n_sign_changes', 'acc_x_entropy', 'acc_y_mean', 'acc_y_std',\n",
       "       'acc_y_min', 'acc_y_max', 'acc_y_kurtosis', 'acc_y_peaks',\n",
       "       'acc_y_n_sign_changes', 'acc_y_entropy', 'acc_z_mean', 'acc_z_std',\n",
       "       'acc_z_min', 'acc_z_max', 'acc_z_kurtosis', 'acc_z_peaks',\n",
       "       'acc_z_n_sign_changes', 'acc_z_entropy', 'bvp_mean', 'bvp_min',\n",
       "       'bvp_max', 'bvp_std', 'bvp_peaks', 'bvp_sign_changes', 'temp_mean',\n",
       "       'temp_min', 'temp_max', 'temp_std'],\n",
       "      dtype='object')"
      ]
     },
     "execution_count": 10,
     "metadata": {},
     "output_type": "execute_result"
    }
   ],
   "source": [
    "X_train_original.columns"
   ]
  },
  {
   "cell_type": "markdown",
   "metadata": {},
   "source": [
    "# Filter methods"
   ]
  },
  {
   "cell_type": "markdown",
   "metadata": {},
   "source": [
    "### Checking for constant features"
   ]
  },
  {
   "cell_type": "code",
   "execution_count": 11,
   "metadata": {},
   "outputs": [
    {
     "data": {
      "text/plain": [
       "0"
      ]
     },
     "execution_count": 11,
     "metadata": {},
     "output_type": "execute_result"
    }
   ],
   "source": [
    "# we do not have any constant features \n",
    "constant_features = [feat for feat in X_train.columns if X_train[feat].std() == 0]\n",
    "len(constant_features)"
   ]
  },
  {
   "cell_type": "markdown",
   "metadata": {},
   "source": [
    "### Checking for quasi-constant features"
   ]
  },
  {
   "cell_type": "code",
   "execution_count": 12,
   "metadata": {},
   "outputs": [
    {
     "data": {
      "text/plain": [
       "0"
      ]
     },
     "execution_count": 12,
     "metadata": {},
     "output_type": "execute_result"
    }
   ],
   "source": [
    "# we do not have any quasi-constant features\n",
    "sel = VarianceThreshold(threshold=0.01)  # 0.1 indicates 99% of observations approximately\n",
    "sel.fit(X_train)  # fit finds the features with low variance\n",
    "sum(sel.get_support()) - len(X_train.columns) # how many quasi-constant"
   ]
  },
  {
   "cell_type": "markdown",
   "metadata": {},
   "source": [
    "### Checking for duplicated features"
   ]
  },
  {
   "cell_type": "code",
   "execution_count": 13,
   "metadata": {},
   "outputs": [
    {
     "data": {
      "text/plain": [
       "0"
      ]
     },
     "execution_count": 13,
     "metadata": {},
     "output_type": "execute_result"
    }
   ],
   "source": [
    "# we do not have any duplicated features\n",
    "duplicated_feat = []\n",
    "for i in range(0, len(X_train.columns)):\n",
    "    col_1 = X_train.columns[i]\n",
    "    for col_2 in X_train.columns[i + 1:]:\n",
    "        if X_train[col_1].equals(X_train[col_2]):\n",
    "            duplicated_feat.append(col_2)\n",
    "            \n",
    "len(duplicated_feat)"
   ]
  },
  {
   "cell_type": "markdown",
   "metadata": {},
   "source": [
    "### Checking for correlated features"
   ]
  },
  {
   "cell_type": "code",
   "execution_count": 14,
   "metadata": {},
   "outputs": [
    {
     "name": "stdout",
     "output_type": "stream",
     "text": [
      "correlated features:  23\n"
     ]
    }
   ],
   "source": [
    "# we have 23 correlated features\n",
    "def correlation(dataset, threshold):\n",
    "    col_corr = set()  # Set of all the names of correlated columns\n",
    "    corr_matrix = dataset.corr()\n",
    "    for i in range(len(corr_matrix.columns)):\n",
    "        for j in range(i):\n",
    "            if abs(corr_matrix.iloc[i, j]) > threshold: # we are interested in absolute coeff value\n",
    "                colname = corr_matrix.columns[i]  # getting the name of column\n",
    "                col_corr.add(colname)\n",
    "    return col_corr\n",
    "\n",
    "corr_features = correlation(X_train, 0.8)\n",
    "print('correlated features: ', len(set(corr_features)) )"
   ]
  },
  {
   "cell_type": "code",
   "execution_count": 15,
   "metadata": {},
   "outputs": [
    {
     "data": {
      "text/plain": [
       "((252610, 27), (108262, 27))"
      ]
     },
     "execution_count": 15,
     "metadata": {},
     "output_type": "execute_result"
    }
   ],
   "source": [
    "# removing correlated features\n",
    "X_train.drop(labels=corr_features, axis=1, inplace=True)\n",
    "X_test.drop(labels=corr_features, axis=1, inplace=True)\n",
    "\n",
    "X_train.shape, X_test.shape"
   ]
  },
  {
   "cell_type": "code",
   "execution_count": 16,
   "metadata": {},
   "outputs": [],
   "source": [
    "# keep a copy of the dataset at  this stage\n",
    "X_train_corr = X_train.copy()\n",
    "X_test_corr = X_test.copy()"
   ]
  },
  {
   "cell_type": "code",
   "execution_count": 17,
   "metadata": {},
   "outputs": [
    {
     "data": {
      "text/plain": [
       "Index(['tonic_mean', 'tonic_std', 'tonic_kurtosis', 'tonic_peaks',\n",
       "       'tonic_n_sign_changes', 'phasic_min', 'phasic_kurtosis',\n",
       "       'phasic_n_sign_changes', 'acc_x_mean', 'acc_x_std', 'acc_x_max',\n",
       "       'acc_x_kurtosis', 'acc_x_peaks', 'acc_x_n_sign_changes', 'acc_y_mean',\n",
       "       'acc_y_max', 'acc_y_kurtosis', 'acc_y_peaks', 'acc_y_n_sign_changes',\n",
       "       'acc_z_mean', 'acc_z_min', 'acc_z_kurtosis', 'acc_z_n_sign_changes',\n",
       "       'bvp_mean', 'bvp_min', 'bvp_sign_changes', 'temp_std'],\n",
       "      dtype='object')"
      ]
     },
     "execution_count": 17,
     "metadata": {},
     "output_type": "execute_result"
    }
   ],
   "source": [
    "X_train_corr.columns"
   ]
  },
  {
   "cell_type": "markdown",
   "metadata": {},
   "source": [
    "### Comparing the performance in machine learning algorithms"
   ]
  },
  {
   "cell_type": "markdown",
   "metadata": {},
   "source": [
    "#### Logistic Regression with cross validation"
   ]
  },
  {
   "cell_type": "code",
   "execution_count": 18,
   "metadata": {},
   "outputs": [
    {
     "name": "stdout",
     "output_type": "stream",
     "text": [
      "Model's accuracy on the test set: 0.6552160499528921\n"
     ]
    }
   ],
   "source": [
    "# original\n",
    "clf = LogisticRegressionCV(cv=10, multi_class='ovr', class_weight='balanced').fit(X_train_original, y_train)\n",
    "target = clf.predict(X_test_original.fillna(0))\n",
    "print(f\"Model's accuracy on the test set: {accuracy_score(y_test, target)}\")"
   ]
  },
  {
   "cell_type": "code",
   "execution_count": 19,
   "metadata": {},
   "outputs": [
    {
     "name": "stdout",
     "output_type": "stream",
     "text": [
      "Model's accuracy on the test set: 0.6524265208475735\n"
     ]
    }
   ],
   "source": [
    "# filter methods - correlation\n",
    "clf = LogisticRegressionCV(cv=10, multi_class='ovr', class_weight='balanced').fit(X_train_corr, y_train)\n",
    "target = clf.predict(X_test_corr.fillna(0))\n",
    "print(f\"Model's accuracy on the test set: {accuracy_score(y_test, target)}\")"
   ]
  },
  {
   "cell_type": "markdown",
   "metadata": {},
   "source": [
    "#### Naive Bayes"
   ]
  },
  {
   "cell_type": "code",
   "execution_count": 20,
   "metadata": {},
   "outputs": [
    {
     "name": "stdout",
     "output_type": "stream",
     "text": [
      "Model's accuracy on the test set: 0.5556889767416083\n"
     ]
    }
   ],
   "source": [
    "# original\n",
    "gnb = GaussianNB().fit(X_train_original, y_train)\n",
    "target = gnb.predict(X_test_original.fillna(0))\n",
    "print(f\"Model's accuracy on the test set: {accuracy_score(y_test, target)}\")"
   ]
  },
  {
   "cell_type": "code",
   "execution_count": 21,
   "metadata": {},
   "outputs": [
    {
     "name": "stdout",
     "output_type": "stream",
     "text": [
      "Model's accuracy on the test set: 0.5390164600690917\n"
     ]
    }
   ],
   "source": [
    "# filter methods - correlation\n",
    "gnb = GaussianNB().fit(X_train_corr, y_train)\n",
    "target = gnb.predict(X_test_corr.fillna(0))\n",
    "print(f\"Model's accuracy on the test set: {accuracy_score(y_test, target)}\")"
   ]
  },
  {
   "cell_type": "markdown",
   "metadata": {},
   "source": [
    "#### K-nearest neighbors"
   ]
  },
  {
   "cell_type": "code",
   "execution_count": 22,
   "metadata": {},
   "outputs": [
    {
     "name": "stdout",
     "output_type": "stream",
     "text": [
      "Model's accuracy on the test set: 0.9956402061665219\n"
     ]
    }
   ],
   "source": [
    "# original\n",
    "clf = KNeighborsClassifier(n_neighbors=3).fit(X_train_original, y_train)\n",
    "target = clf.predict(X_test_original.fillna(0))\n",
    "print(f\"Model's accuracy on the test set: {accuracy_score(y_test, target)}\")"
   ]
  },
  {
   "cell_type": "code",
   "execution_count": 23,
   "metadata": {},
   "outputs": [
    {
     "name": "stdout",
     "output_type": "stream",
     "text": [
      "Model's accuracy on the test set: 0.9979678927047348\n"
     ]
    }
   ],
   "source": [
    "# filter methods - correlation\n",
    "clf = KNeighborsClassifier(n_neighbors=3).fit(X_train_corr, y_train)\n",
    "target = clf.predict(X_test_corr.fillna(0))\n",
    "print(f\"Model's accuracy on the test set: {accuracy_score(y_test, target)}\")"
   ]
  },
  {
   "cell_type": "markdown",
   "metadata": {},
   "source": [
    "# Embedded methods"
   ]
  },
  {
   "cell_type": "markdown",
   "metadata": {},
   "source": [
    "## Random forests"
   ]
  },
  {
   "cell_type": "markdown",
   "metadata": {},
   "source": [
    "### Selecting features by random forests derived importance"
   ]
  },
  {
   "cell_type": "code",
   "execution_count": 24,
   "metadata": {},
   "outputs": [],
   "source": [
    "sel_ = SelectFromModel(RandomForestClassifier(n_estimators=400))\n",
    "sel_.fit(X_train, y_train)\n",
    "\n",
    "# remove features with zero coefficient from dataset and parse again as dataframe (output of sklearn is numpy array)\n",
    "X_train_rf = pd.DataFrame(sel_.transform(X_train))\n",
    "X_test_rf = pd.DataFrame(sel_.transform(X_test))\n",
    "\n",
    "# add the columns name\n",
    "X_train_rf.columns = X_train.columns[(sel_.get_support())]\n",
    "X_test_rf.columns = X_train.columns[(sel_.get_support())]"
   ]
  },
  {
   "cell_type": "code",
   "execution_count": 25,
   "metadata": {},
   "outputs": [
    {
     "data": {
      "text/plain": [
       "((252610, 14), (108262, 14))"
      ]
     },
     "execution_count": 25,
     "metadata": {},
     "output_type": "execute_result"
    }
   ],
   "source": [
    "X_train_rf.shape, X_test_rf.shape"
   ]
  },
  {
   "cell_type": "code",
   "execution_count": 26,
   "metadata": {},
   "outputs": [
    {
     "data": {
      "text/plain": [
       "Index(['tonic_mean', 'tonic_std', 'acc_x_mean', 'acc_x_std', 'acc_x_max',\n",
       "       'acc_x_peaks', 'acc_y_mean', 'acc_y_max', 'acc_y_peaks',\n",
       "       'acc_y_n_sign_changes', 'acc_z_mean', 'acc_z_min', 'bvp_min',\n",
       "       'temp_std'],\n",
       "      dtype='object')"
      ]
     },
     "execution_count": 26,
     "metadata": {},
     "output_type": "execute_result"
    }
   ],
   "source": [
    "X_train_rf.columns"
   ]
  },
  {
   "cell_type": "markdown",
   "metadata": {},
   "source": [
    "### Applying the model and mesuring performance"
   ]
  },
  {
   "cell_type": "code",
   "execution_count": 27,
   "metadata": {},
   "outputs": [
    {
     "name": "stdout",
     "output_type": "stream",
     "text": [
      "Model's accuracy on the test set: 0.8982560824666088\n"
     ]
    }
   ],
   "source": [
    "rf = RandomForestClassifier(n_estimators=200, random_state=39, max_depth=4)\n",
    "rf.fit(X_train_rf, y_train)\n",
    "target = rf.predict(X_test_rf.fillna(0))\n",
    "print(f\"Model's accuracy on the test set: {accuracy_score(y_test, target)}\")"
   ]
  },
  {
   "cell_type": "markdown",
   "metadata": {},
   "source": [
    "## Decision trees"
   ]
  },
  {
   "cell_type": "markdown",
   "metadata": {},
   "source": [
    "### Selecting features"
   ]
  },
  {
   "cell_type": "code",
   "execution_count": 28,
   "metadata": {},
   "outputs": [
    {
     "data": {
      "text/plain": [
       "SelectFromModel(estimator=DecisionTreeClassifier(class_weight='balanced'))"
      ]
     },
     "execution_count": 28,
     "metadata": {},
     "output_type": "execute_result"
    }
   ],
   "source": [
    "# selecting features\n",
    "clf = tree.DecisionTreeClassifier(class_weight='balanced')\n",
    "sel_ = SelectFromModel(clf)\n",
    "sel_.fit(X_train.fillna(0), y_train)"
   ]
  },
  {
   "cell_type": "code",
   "execution_count": 29,
   "metadata": {},
   "outputs": [
    {
     "data": {
      "text/plain": [
       "12"
      ]
     },
     "execution_count": 29,
     "metadata": {},
     "output_type": "execute_result"
    }
   ],
   "source": [
    "# adding the variable names and order it for clearer visualisation\n",
    "selected_feat = X_train.columns[(sel_.get_support())]\n",
    "len(selected_feat)"
   ]
  },
  {
   "cell_type": "code",
   "execution_count": 30,
   "metadata": {},
   "outputs": [
    {
     "data": {
      "text/plain": [
       "Index(['tonic_mean', 'tonic_std', 'acc_x_mean', 'acc_x_max', 'acc_x_peaks',\n",
       "       'acc_y_mean', 'acc_y_kurtosis', 'acc_y_peaks', 'acc_y_n_sign_changes',\n",
       "       'acc_z_mean', 'acc_z_n_sign_changes', 'bvp_min'],\n",
       "      dtype='object')"
      ]
     },
     "execution_count": 30,
     "metadata": {},
     "output_type": "execute_result"
    }
   ],
   "source": [
    "selected_feat"
   ]
  },
  {
   "cell_type": "markdown",
   "metadata": {},
   "source": [
    "### Applying the model and measuring performance"
   ]
  },
  {
   "cell_type": "code",
   "execution_count": 31,
   "metadata": {},
   "outputs": [
    {
     "name": "stdout",
     "output_type": "stream",
     "text": [
      "Model's accuracy on the test set: 0.9921856237645711\n"
     ]
    }
   ],
   "source": [
    "clf = tree.DecisionTreeClassifier(class_weight='balanced')\n",
    "clf.fit(X_train[selected_feat].fillna(0), y_train)\n",
    "target = clf.predict(X_test[selected_feat].fillna(0))\n",
    "print(f\"Model's accuracy on the test set: {accuracy_score(y_test, target)}\")"
   ]
  },
  {
   "cell_type": "markdown",
   "metadata": {},
   "source": [
    "## Gradient boosted trees"
   ]
  },
  {
   "cell_type": "markdown",
   "metadata": {},
   "source": [
    "### Selecting features by gradient boosted trees importance"
   ]
  },
  {
   "cell_type": "code",
   "execution_count": 32,
   "metadata": {},
   "outputs": [
    {
     "data": {
      "text/plain": [
       "SelectFromModel(estimator=GradientBoostingClassifier())"
      ]
     },
     "execution_count": 32,
     "metadata": {},
     "output_type": "execute_result"
    }
   ],
   "source": [
    "# selecting features all together in one go by contemplating their importance after fitting only 1 gradient boosted tree\n",
    "sel_ = SelectFromModel(GradientBoostingClassifier())\n",
    "sel_.fit(X_train.fillna(0), y_train)"
   ]
  },
  {
   "cell_type": "code",
   "execution_count": 33,
   "metadata": {},
   "outputs": [
    {
     "data": {
      "text/plain": [
       "9"
      ]
     },
     "execution_count": 33,
     "metadata": {},
     "output_type": "execute_result"
    }
   ],
   "source": [
    "# adding the variable names and order it for clearer visualisation\n",
    "selected_feat = X_train.columns[(sel_.get_support())]\n",
    "len(selected_feat)"
   ]
  },
  {
   "cell_type": "code",
   "execution_count": 34,
   "metadata": {},
   "outputs": [
    {
     "data": {
      "text/plain": [
       "Index(['tonic_mean', 'tonic_std', 'acc_x_mean', 'acc_y_mean', 'acc_y_max',\n",
       "       'acc_y_peaks', 'acc_z_mean', 'acc_z_min', 'bvp_min'],\n",
       "      dtype='object')"
      ]
     },
     "execution_count": 34,
     "metadata": {},
     "output_type": "execute_result"
    }
   ],
   "source": [
    "selected_feat"
   ]
  },
  {
   "cell_type": "markdown",
   "metadata": {},
   "source": [
    "### Applying the model and measuring performance"
   ]
  },
  {
   "cell_type": "code",
   "execution_count": 35,
   "metadata": {},
   "outputs": [
    {
     "name": "stdout",
     "output_type": "stream",
     "text": [
      "Model's accuracy on the test set: 0.9552936395041658\n"
     ]
    }
   ],
   "source": [
    "gb = GradientBoostingClassifier(n_estimators=200, random_state=39, max_depth=4)\n",
    "gb.fit(X_train[selected_feat].fillna(0), y_train)\n",
    "target = gb.predict(X_test[selected_feat].fillna(0))\n",
    "print(f\"Model's accuracy on the test set: {accuracy_score(y_test, target)}\")"
   ]
  },
  {
   "cell_type": "markdown",
   "metadata": {},
   "source": [
    "## Comparing models"
   ]
  },
  {
   "cell_type": "markdown",
   "metadata": {},
   "source": [
    "| ML model                    | Number of features used | Accuracy of prediction  |\n",
    "|-----------------------------|-------------------------|-------------------------|\n",
    "| Logistic Regression with CV | 50                      | 0.655                   |\n",
    "| Logistic Regression with CV | 27                      | 0.652                   |\n",
    "| Naive Bayes                 | 50                      | 0.556                   |\n",
    "| Naive Bayes                 | 27                      | 0.540                   |\n",
    "| K-nearest neighbors         | 50                      | 0.996                   |\n",
    "| **K-nearest neighbors**     | **27**                  | **0.998**               |\n",
    "| Random Forest               | 14                      | 0.898                   |\n",
    "| Decision Tree               | 12                      | 0.992                   |\n",
    "| Gradient Boosted Tree       | 9                       | 0.955                   |"
   ]
  },
  {
   "cell_type": "markdown",
   "metadata": {},
   "source": [
    "## Applying the KNN model to the whole dataset"
   ]
  },
  {
   "cell_type": "code",
   "execution_count": 36,
   "metadata": {},
   "outputs": [
    {
     "name": "stdout",
     "output_type": "stream",
     "text": [
      "Model's accuracy on the test set: 0.9979678927047348\n"
     ]
    }
   ],
   "source": [
    "clf = KNeighborsClassifier(n_neighbors=3).fit(X_train_corr, y_train)\n",
    "target = clf.predict(X_test_corr.fillna(0))\n",
    "print(f\"Model's accuracy on the test set: {accuracy_score(y_test, target)}\")"
   ]
  },
  {
   "cell_type": "code",
   "execution_count": 37,
   "metadata": {},
   "outputs": [],
   "source": [
    "selected_feat = X_train_corr.columns"
   ]
  },
  {
   "cell_type": "code",
   "execution_count": 38,
   "metadata": {},
   "outputs": [],
   "source": [
    "df = pd.read_csv('datasets/FeaturesDatabase.csv', parse_dates=['datetime'])\n",
    "df = df.drop(columns = ['ID','datetime'])\n",
    "df = df.loc[df.tag == 0].reset_index(drop=True)\n",
    "df = df.drop(columns = 'tag')"
   ]
  },
  {
   "cell_type": "code",
   "execution_count": 39,
   "metadata": {},
   "outputs": [],
   "source": [
    "df = df.replace(np.inf, 9999.999).reset_index(drop=True)\n",
    "df = df.replace(-np.inf, -9999.999).reset_index(drop=True)"
   ]
  },
  {
   "cell_type": "code",
   "execution_count": 40,
   "metadata": {},
   "outputs": [],
   "source": [
    "pred = clf.predict(df[selected_feat])\n",
    "pred = pd.DataFrame(data = {'tag': pred})"
   ]
  },
  {
   "cell_type": "code",
   "execution_count": 41,
   "metadata": {},
   "outputs": [
    {
     "data": {
      "text/plain": [
       "tag\n",
       "3      1621156\n",
       "2       162847\n",
       "1       136008\n",
       "dtype: int64"
      ]
     },
     "execution_count": 41,
     "metadata": {},
     "output_type": "execute_result"
    }
   ],
   "source": [
    "pred.value_counts()"
   ]
  },
  {
   "cell_type": "markdown",
   "metadata": {},
   "source": [
    "## Creating one common dataset with tags"
   ]
  },
  {
   "cell_type": "code",
   "execution_count": 44,
   "metadata": {},
   "outputs": [],
   "source": [
    "df = pd.read_csv('datasets/FeaturesDatabase.csv', parse_dates=['datetime'])\n",
    "df = df.loc[df.tag == 0].reset_index(drop=True)\n",
    "df = df.drop(columns = 'tag')\n",
    "df = pd.concat([df, pred], axis=1)\n",
    "\n",
    "data = pd.read_csv('datasets/FeaturesDatabase.csv', parse_dates=['datetime'])\n",
    "data = data.loc[(data.tag == 1) | (data.tag == 2) | (data.tag == 3)].reset_index(drop=True)"
   ]
  },
  {
   "cell_type": "code",
   "execution_count": 45,
   "metadata": {},
   "outputs": [],
   "source": [
    "df_full = df.append(data, ignore_index=True)"
   ]
  },
  {
   "cell_type": "code",
   "execution_count": 46,
   "metadata": {},
   "outputs": [],
   "source": [
    "df_full = df_full.sort_values(by=['ID','datetime'])"
   ]
  },
  {
   "cell_type": "code",
   "execution_count": 47,
   "metadata": {},
   "outputs": [],
   "source": [
    "df_full = df_full.set_index(['ID','datetime'])"
   ]
  },
  {
   "cell_type": "markdown",
   "metadata": {},
   "source": [
    "## Resulting data frame with predicted stress periods"
   ]
  },
  {
   "cell_type": "code",
   "execution_count": 48,
   "metadata": {},
   "outputs": [
    {
     "data": {
      "text/html": [
       "<div>\n",
       "<style scoped>\n",
       "    .dataframe tbody tr th:only-of-type {\n",
       "        vertical-align: middle;\n",
       "    }\n",
       "\n",
       "    .dataframe tbody tr th {\n",
       "        vertical-align: top;\n",
       "    }\n",
       "\n",
       "    .dataframe thead th {\n",
       "        text-align: right;\n",
       "    }\n",
       "</style>\n",
       "<table border=\"1\" class=\"dataframe\">\n",
       "  <thead>\n",
       "    <tr style=\"text-align: right;\">\n",
       "      <th></th>\n",
       "      <th></th>\n",
       "      <th>tonic_mean</th>\n",
       "      <th>tonic_std</th>\n",
       "      <th>tonic_min</th>\n",
       "      <th>tonic_max</th>\n",
       "      <th>tonic_kurtosis</th>\n",
       "      <th>tonic_peaks</th>\n",
       "      <th>tonic_n_sign_changes</th>\n",
       "      <th>tonic_entropy</th>\n",
       "      <th>phasic_mean</th>\n",
       "      <th>phasic_std</th>\n",
       "      <th>...</th>\n",
       "      <th>bvp_min</th>\n",
       "      <th>bvp_max</th>\n",
       "      <th>bvp_std</th>\n",
       "      <th>bvp_peaks</th>\n",
       "      <th>bvp_sign_changes</th>\n",
       "      <th>temp_mean</th>\n",
       "      <th>temp_min</th>\n",
       "      <th>temp_max</th>\n",
       "      <th>temp_std</th>\n",
       "      <th>tag</th>\n",
       "    </tr>\n",
       "    <tr>\n",
       "      <th>ID</th>\n",
       "      <th>datetime</th>\n",
       "      <th></th>\n",
       "      <th></th>\n",
       "      <th></th>\n",
       "      <th></th>\n",
       "      <th></th>\n",
       "      <th></th>\n",
       "      <th></th>\n",
       "      <th></th>\n",
       "      <th></th>\n",
       "      <th></th>\n",
       "      <th></th>\n",
       "      <th></th>\n",
       "      <th></th>\n",
       "      <th></th>\n",
       "      <th></th>\n",
       "      <th></th>\n",
       "      <th></th>\n",
       "      <th></th>\n",
       "      <th></th>\n",
       "      <th></th>\n",
       "      <th></th>\n",
       "    </tr>\n",
       "  </thead>\n",
       "  <tbody>\n",
       "    <tr>\n",
       "      <th rowspan=\"5\" valign=\"top\">A000C8</th>\n",
       "      <th>2019-07-17 06:34:11</th>\n",
       "      <td>0.457250</td>\n",
       "      <td>0.782798</td>\n",
       "      <td>-1.159493</td>\n",
       "      <td>1.189180</td>\n",
       "      <td>-0.686382</td>\n",
       "      <td>0.0</td>\n",
       "      <td>2.0</td>\n",
       "      <td>-inf</td>\n",
       "      <td>0.766455</td>\n",
       "      <td>0.786555</td>\n",
       "      <td>...</td>\n",
       "      <td>-141.496563</td>\n",
       "      <td>145.397188</td>\n",
       "      <td>41.913447</td>\n",
       "      <td>20.0</td>\n",
       "      <td>40.0</td>\n",
       "      <td>35.068833</td>\n",
       "      <td>34.99</td>\n",
       "      <td>35.13</td>\n",
       "      <td>0.039191</td>\n",
       "      <td>3</td>\n",
       "    </tr>\n",
       "    <tr>\n",
       "      <th>2019-07-17 06:34:12</th>\n",
       "      <td>0.468825</td>\n",
       "      <td>0.760967</td>\n",
       "      <td>-0.940626</td>\n",
       "      <td>1.206356</td>\n",
       "      <td>-1.141705</td>\n",
       "      <td>0.0</td>\n",
       "      <td>2.0</td>\n",
       "      <td>-inf</td>\n",
       "      <td>0.768953</td>\n",
       "      <td>0.767381</td>\n",
       "      <td>...</td>\n",
       "      <td>-141.496563</td>\n",
       "      <td>145.397188</td>\n",
       "      <td>41.914589</td>\n",
       "      <td>21.0</td>\n",
       "      <td>41.0</td>\n",
       "      <td>35.070667</td>\n",
       "      <td>34.99</td>\n",
       "      <td>35.13</td>\n",
       "      <td>0.038483</td>\n",
       "      <td>3</td>\n",
       "    </tr>\n",
       "    <tr>\n",
       "      <th>2019-07-17 06:34:13</th>\n",
       "      <td>0.476411</td>\n",
       "      <td>0.759664</td>\n",
       "      <td>-0.911919</td>\n",
       "      <td>1.214285</td>\n",
       "      <td>-1.178132</td>\n",
       "      <td>0.0</td>\n",
       "      <td>2.0</td>\n",
       "      <td>-inf</td>\n",
       "      <td>0.768545</td>\n",
       "      <td>0.760485</td>\n",
       "      <td>...</td>\n",
       "      <td>-141.496563</td>\n",
       "      <td>145.397188</td>\n",
       "      <td>41.937624</td>\n",
       "      <td>21.0</td>\n",
       "      <td>40.0</td>\n",
       "      <td>35.072167</td>\n",
       "      <td>34.99</td>\n",
       "      <td>35.13</td>\n",
       "      <td>0.037421</td>\n",
       "      <td>3</td>\n",
       "    </tr>\n",
       "    <tr>\n",
       "      <th>2019-07-17 06:34:14</th>\n",
       "      <td>0.475620</td>\n",
       "      <td>0.738244</td>\n",
       "      <td>-0.791058</td>\n",
       "      <td>1.268565</td>\n",
       "      <td>-1.328799</td>\n",
       "      <td>0.0</td>\n",
       "      <td>2.0</td>\n",
       "      <td>-inf</td>\n",
       "      <td>0.775316</td>\n",
       "      <td>0.734746</td>\n",
       "      <td>...</td>\n",
       "      <td>-141.496563</td>\n",
       "      <td>145.397188</td>\n",
       "      <td>41.981359</td>\n",
       "      <td>20.0</td>\n",
       "      <td>40.0</td>\n",
       "      <td>35.074167</td>\n",
       "      <td>34.99</td>\n",
       "      <td>35.13</td>\n",
       "      <td>0.036140</td>\n",
       "      <td>3</td>\n",
       "    </tr>\n",
       "    <tr>\n",
       "      <th>2019-07-17 06:34:15</th>\n",
       "      <td>0.502125</td>\n",
       "      <td>0.716291</td>\n",
       "      <td>-0.766346</td>\n",
       "      <td>1.287976</td>\n",
       "      <td>-1.263933</td>\n",
       "      <td>0.0</td>\n",
       "      <td>2.0</td>\n",
       "      <td>-inf</td>\n",
       "      <td>0.754728</td>\n",
       "      <td>0.708612</td>\n",
       "      <td>...</td>\n",
       "      <td>-141.496563</td>\n",
       "      <td>145.397188</td>\n",
       "      <td>41.979099</td>\n",
       "      <td>21.0</td>\n",
       "      <td>40.0</td>\n",
       "      <td>35.075833</td>\n",
       "      <td>34.99</td>\n",
       "      <td>35.13</td>\n",
       "      <td>0.034459</td>\n",
       "      <td>3</td>\n",
       "    </tr>\n",
       "    <tr>\n",
       "      <th>...</th>\n",
       "      <th>...</th>\n",
       "      <td>...</td>\n",
       "      <td>...</td>\n",
       "      <td>...</td>\n",
       "      <td>...</td>\n",
       "      <td>...</td>\n",
       "      <td>...</td>\n",
       "      <td>...</td>\n",
       "      <td>...</td>\n",
       "      <td>...</td>\n",
       "      <td>...</td>\n",
       "      <td>...</td>\n",
       "      <td>...</td>\n",
       "      <td>...</td>\n",
       "      <td>...</td>\n",
       "      <td>...</td>\n",
       "      <td>...</td>\n",
       "      <td>...</td>\n",
       "      <td>...</td>\n",
       "      <td>...</td>\n",
       "      <td>...</td>\n",
       "      <td>...</td>\n",
       "    </tr>\n",
       "    <tr>\n",
       "      <th rowspan=\"5\" valign=\"top\">AOOF3D(2) F</th>\n",
       "      <th>2019-07-25 10:29:48</th>\n",
       "      <td>1.814926</td>\n",
       "      <td>3.059592</td>\n",
       "      <td>-3.019855</td>\n",
       "      <td>9.070718</td>\n",
       "      <td>-1.161781</td>\n",
       "      <td>1.0</td>\n",
       "      <td>3.0</td>\n",
       "      <td>-inf</td>\n",
       "      <td>6.343827</td>\n",
       "      <td>2.521014</td>\n",
       "      <td>...</td>\n",
       "      <td>-307.415313</td>\n",
       "      <td>417.893281</td>\n",
       "      <td>115.810544</td>\n",
       "      <td>25.0</td>\n",
       "      <td>44.0</td>\n",
       "      <td>33.474833</td>\n",
       "      <td>30.01</td>\n",
       "      <td>34.53</td>\n",
       "      <td>1.584409</td>\n",
       "      <td>3</td>\n",
       "    </tr>\n",
       "    <tr>\n",
       "      <th>2019-07-25 10:29:49</th>\n",
       "      <td>1.857763</td>\n",
       "      <td>3.332049</td>\n",
       "      <td>-3.563289</td>\n",
       "      <td>8.993588</td>\n",
       "      <td>-1.291271</td>\n",
       "      <td>1.0</td>\n",
       "      <td>3.0</td>\n",
       "      <td>-inf</td>\n",
       "      <td>6.169866</td>\n",
       "      <td>2.673415</td>\n",
       "      <td>...</td>\n",
       "      <td>-307.415313</td>\n",
       "      <td>417.893281</td>\n",
       "      <td>115.810544</td>\n",
       "      <td>25.0</td>\n",
       "      <td>44.0</td>\n",
       "      <td>33.474833</td>\n",
       "      <td>30.01</td>\n",
       "      <td>34.53</td>\n",
       "      <td>1.584409</td>\n",
       "      <td>3</td>\n",
       "    </tr>\n",
       "    <tr>\n",
       "      <th>2019-07-25 10:29:50</th>\n",
       "      <td>1.787818</td>\n",
       "      <td>2.935411</td>\n",
       "      <td>-2.574139</td>\n",
       "      <td>7.683644</td>\n",
       "      <td>-1.420705</td>\n",
       "      <td>1.0</td>\n",
       "      <td>3.0</td>\n",
       "      <td>-inf</td>\n",
       "      <td>6.112002</td>\n",
       "      <td>2.665108</td>\n",
       "      <td>...</td>\n",
       "      <td>-307.415313</td>\n",
       "      <td>417.893281</td>\n",
       "      <td>115.810544</td>\n",
       "      <td>25.0</td>\n",
       "      <td>44.0</td>\n",
       "      <td>33.474833</td>\n",
       "      <td>30.01</td>\n",
       "      <td>34.53</td>\n",
       "      <td>1.584409</td>\n",
       "      <td>3</td>\n",
       "    </tr>\n",
       "    <tr>\n",
       "      <th>2019-07-25 10:29:51</th>\n",
       "      <td>1.827658</td>\n",
       "      <td>2.868855</td>\n",
       "      <td>-2.042348</td>\n",
       "      <td>8.290597</td>\n",
       "      <td>-1.306433</td>\n",
       "      <td>1.0</td>\n",
       "      <td>3.0</td>\n",
       "      <td>-inf</td>\n",
       "      <td>5.948013</td>\n",
       "      <td>2.920829</td>\n",
       "      <td>...</td>\n",
       "      <td>-307.415313</td>\n",
       "      <td>417.893281</td>\n",
       "      <td>115.810544</td>\n",
       "      <td>25.0</td>\n",
       "      <td>44.0</td>\n",
       "      <td>33.474833</td>\n",
       "      <td>30.01</td>\n",
       "      <td>34.53</td>\n",
       "      <td>1.584409</td>\n",
       "      <td>3</td>\n",
       "    </tr>\n",
       "    <tr>\n",
       "      <th>2019-07-25 10:29:52</th>\n",
       "      <td>1.513841</td>\n",
       "      <td>2.526616</td>\n",
       "      <td>-1.940078</td>\n",
       "      <td>6.114643</td>\n",
       "      <td>-1.498030</td>\n",
       "      <td>1.0</td>\n",
       "      <td>3.0</td>\n",
       "      <td>-inf</td>\n",
       "      <td>6.144210</td>\n",
       "      <td>2.927669</td>\n",
       "      <td>...</td>\n",
       "      <td>-307.415313</td>\n",
       "      <td>417.893281</td>\n",
       "      <td>115.810544</td>\n",
       "      <td>25.0</td>\n",
       "      <td>44.0</td>\n",
       "      <td>33.474833</td>\n",
       "      <td>30.01</td>\n",
       "      <td>34.53</td>\n",
       "      <td>1.584409</td>\n",
       "      <td>3</td>\n",
       "    </tr>\n",
       "  </tbody>\n",
       "</table>\n",
       "<p>2280883 rows × 51 columns</p>\n",
       "</div>"
      ],
      "text/plain": [
       "                                 tonic_mean  tonic_std  tonic_min  tonic_max  \\\n",
       "ID          datetime                                                           \n",
       "A000C8      2019-07-17 06:34:11    0.457250   0.782798  -1.159493   1.189180   \n",
       "            2019-07-17 06:34:12    0.468825   0.760967  -0.940626   1.206356   \n",
       "            2019-07-17 06:34:13    0.476411   0.759664  -0.911919   1.214285   \n",
       "            2019-07-17 06:34:14    0.475620   0.738244  -0.791058   1.268565   \n",
       "            2019-07-17 06:34:15    0.502125   0.716291  -0.766346   1.287976   \n",
       "...                                     ...        ...        ...        ...   \n",
       "AOOF3D(2) F 2019-07-25 10:29:48    1.814926   3.059592  -3.019855   9.070718   \n",
       "            2019-07-25 10:29:49    1.857763   3.332049  -3.563289   8.993588   \n",
       "            2019-07-25 10:29:50    1.787818   2.935411  -2.574139   7.683644   \n",
       "            2019-07-25 10:29:51    1.827658   2.868855  -2.042348   8.290597   \n",
       "            2019-07-25 10:29:52    1.513841   2.526616  -1.940078   6.114643   \n",
       "\n",
       "                                 tonic_kurtosis  tonic_peaks  \\\n",
       "ID          datetime                                           \n",
       "A000C8      2019-07-17 06:34:11       -0.686382          0.0   \n",
       "            2019-07-17 06:34:12       -1.141705          0.0   \n",
       "            2019-07-17 06:34:13       -1.178132          0.0   \n",
       "            2019-07-17 06:34:14       -1.328799          0.0   \n",
       "            2019-07-17 06:34:15       -1.263933          0.0   \n",
       "...                                         ...          ...   \n",
       "AOOF3D(2) F 2019-07-25 10:29:48       -1.161781          1.0   \n",
       "            2019-07-25 10:29:49       -1.291271          1.0   \n",
       "            2019-07-25 10:29:50       -1.420705          1.0   \n",
       "            2019-07-25 10:29:51       -1.306433          1.0   \n",
       "            2019-07-25 10:29:52       -1.498030          1.0   \n",
       "\n",
       "                                 tonic_n_sign_changes  tonic_entropy  \\\n",
       "ID          datetime                                                   \n",
       "A000C8      2019-07-17 06:34:11                   2.0           -inf   \n",
       "            2019-07-17 06:34:12                   2.0           -inf   \n",
       "            2019-07-17 06:34:13                   2.0           -inf   \n",
       "            2019-07-17 06:34:14                   2.0           -inf   \n",
       "            2019-07-17 06:34:15                   2.0           -inf   \n",
       "...                                               ...            ...   \n",
       "AOOF3D(2) F 2019-07-25 10:29:48                   3.0           -inf   \n",
       "            2019-07-25 10:29:49                   3.0           -inf   \n",
       "            2019-07-25 10:29:50                   3.0           -inf   \n",
       "            2019-07-25 10:29:51                   3.0           -inf   \n",
       "            2019-07-25 10:29:52                   3.0           -inf   \n",
       "\n",
       "                                 phasic_mean  phasic_std  ...     bvp_min  \\\n",
       "ID          datetime                                      ...               \n",
       "A000C8      2019-07-17 06:34:11     0.766455    0.786555  ... -141.496563   \n",
       "            2019-07-17 06:34:12     0.768953    0.767381  ... -141.496563   \n",
       "            2019-07-17 06:34:13     0.768545    0.760485  ... -141.496563   \n",
       "            2019-07-17 06:34:14     0.775316    0.734746  ... -141.496563   \n",
       "            2019-07-17 06:34:15     0.754728    0.708612  ... -141.496563   \n",
       "...                                      ...         ...  ...         ...   \n",
       "AOOF3D(2) F 2019-07-25 10:29:48     6.343827    2.521014  ... -307.415313   \n",
       "            2019-07-25 10:29:49     6.169866    2.673415  ... -307.415313   \n",
       "            2019-07-25 10:29:50     6.112002    2.665108  ... -307.415313   \n",
       "            2019-07-25 10:29:51     5.948013    2.920829  ... -307.415313   \n",
       "            2019-07-25 10:29:52     6.144210    2.927669  ... -307.415313   \n",
       "\n",
       "                                    bvp_max     bvp_std  bvp_peaks  \\\n",
       "ID          datetime                                                 \n",
       "A000C8      2019-07-17 06:34:11  145.397188   41.913447       20.0   \n",
       "            2019-07-17 06:34:12  145.397188   41.914589       21.0   \n",
       "            2019-07-17 06:34:13  145.397188   41.937624       21.0   \n",
       "            2019-07-17 06:34:14  145.397188   41.981359       20.0   \n",
       "            2019-07-17 06:34:15  145.397188   41.979099       21.0   \n",
       "...                                     ...         ...        ...   \n",
       "AOOF3D(2) F 2019-07-25 10:29:48  417.893281  115.810544       25.0   \n",
       "            2019-07-25 10:29:49  417.893281  115.810544       25.0   \n",
       "            2019-07-25 10:29:50  417.893281  115.810544       25.0   \n",
       "            2019-07-25 10:29:51  417.893281  115.810544       25.0   \n",
       "            2019-07-25 10:29:52  417.893281  115.810544       25.0   \n",
       "\n",
       "                                 bvp_sign_changes  temp_mean  temp_min  \\\n",
       "ID          datetime                                                     \n",
       "A000C8      2019-07-17 06:34:11              40.0  35.068833     34.99   \n",
       "            2019-07-17 06:34:12              41.0  35.070667     34.99   \n",
       "            2019-07-17 06:34:13              40.0  35.072167     34.99   \n",
       "            2019-07-17 06:34:14              40.0  35.074167     34.99   \n",
       "            2019-07-17 06:34:15              40.0  35.075833     34.99   \n",
       "...                                           ...        ...       ...   \n",
       "AOOF3D(2) F 2019-07-25 10:29:48              44.0  33.474833     30.01   \n",
       "            2019-07-25 10:29:49              44.0  33.474833     30.01   \n",
       "            2019-07-25 10:29:50              44.0  33.474833     30.01   \n",
       "            2019-07-25 10:29:51              44.0  33.474833     30.01   \n",
       "            2019-07-25 10:29:52              44.0  33.474833     30.01   \n",
       "\n",
       "                                 temp_max  temp_std  tag  \n",
       "ID          datetime                                      \n",
       "A000C8      2019-07-17 06:34:11     35.13  0.039191    3  \n",
       "            2019-07-17 06:34:12     35.13  0.038483    3  \n",
       "            2019-07-17 06:34:13     35.13  0.037421    3  \n",
       "            2019-07-17 06:34:14     35.13  0.036140    3  \n",
       "            2019-07-17 06:34:15     35.13  0.034459    3  \n",
       "...                                   ...       ...  ...  \n",
       "AOOF3D(2) F 2019-07-25 10:29:48     34.53  1.584409    3  \n",
       "            2019-07-25 10:29:49     34.53  1.584409    3  \n",
       "            2019-07-25 10:29:50     34.53  1.584409    3  \n",
       "            2019-07-25 10:29:51     34.53  1.584409    3  \n",
       "            2019-07-25 10:29:52     34.53  1.584409    3  \n",
       "\n",
       "[2280883 rows x 51 columns]"
      ]
     },
     "execution_count": 48,
     "metadata": {},
     "output_type": "execute_result"
    }
   ],
   "source": [
    "df_full"
   ]
  },
  {
   "cell_type": "markdown",
   "metadata": {},
   "source": [
    "## Stress periods separetely"
   ]
  },
  {
   "cell_type": "code",
   "execution_count": 49,
   "metadata": {},
   "outputs": [],
   "source": [
    "stress = df_full.reset_index()[['ID','datetime','tag']]"
   ]
  },
  {
   "cell_type": "code",
   "execution_count": 50,
   "metadata": {},
   "outputs": [],
   "source": [
    "# stress = pd.read_csv('stress_periods_knn.csv', parse_dates = ['datetime'])"
   ]
  },
  {
   "cell_type": "code",
   "execution_count": 51,
   "metadata": {},
   "outputs": [],
   "source": [
    "stress.loc[stress['ID'] == 'A016902F', 'ID'] = 'A016902'\n",
    "stress.loc[stress['ID'] == 'A016901F', 'ID'] = 'A016901'\n",
    "stress.loc[stress['ID'] == 'AOOF3D(2) F', 'ID'] = 'A00F3D2'\n",
    "stress.loc[stress['ID'] == 'A00F3D M', 'ID'] = 'A00F3D1'\n",
    "stress.loc[stress['ID'] == 'A00520 F', 'ID'] = 'A00520'"
   ]
  },
  {
   "cell_type": "code",
   "execution_count": 52,
   "metadata": {},
   "outputs": [
    {
     "data": {
      "text/html": [
       "<div>\n",
       "<style scoped>\n",
       "    .dataframe tbody tr th:only-of-type {\n",
       "        vertical-align: middle;\n",
       "    }\n",
       "\n",
       "    .dataframe tbody tr th {\n",
       "        vertical-align: top;\n",
       "    }\n",
       "\n",
       "    .dataframe thead th {\n",
       "        text-align: right;\n",
       "    }\n",
       "</style>\n",
       "<table border=\"1\" class=\"dataframe\">\n",
       "  <thead>\n",
       "    <tr style=\"text-align: right;\">\n",
       "      <th></th>\n",
       "      <th>ID</th>\n",
       "      <th>datetime</th>\n",
       "      <th>tag</th>\n",
       "    </tr>\n",
       "  </thead>\n",
       "  <tbody>\n",
       "    <tr>\n",
       "      <th>0</th>\n",
       "      <td>A000C8</td>\n",
       "      <td>2019-07-17 06:34:11</td>\n",
       "      <td>3</td>\n",
       "    </tr>\n",
       "    <tr>\n",
       "      <th>1</th>\n",
       "      <td>A000C8</td>\n",
       "      <td>2019-07-17 06:34:12</td>\n",
       "      <td>3</td>\n",
       "    </tr>\n",
       "    <tr>\n",
       "      <th>2</th>\n",
       "      <td>A000C8</td>\n",
       "      <td>2019-07-17 06:34:13</td>\n",
       "      <td>3</td>\n",
       "    </tr>\n",
       "    <tr>\n",
       "      <th>3</th>\n",
       "      <td>A000C8</td>\n",
       "      <td>2019-07-17 06:34:14</td>\n",
       "      <td>3</td>\n",
       "    </tr>\n",
       "    <tr>\n",
       "      <th>4</th>\n",
       "      <td>A000C8</td>\n",
       "      <td>2019-07-17 06:34:15</td>\n",
       "      <td>3</td>\n",
       "    </tr>\n",
       "    <tr>\n",
       "      <th>...</th>\n",
       "      <td>...</td>\n",
       "      <td>...</td>\n",
       "      <td>...</td>\n",
       "    </tr>\n",
       "    <tr>\n",
       "      <th>2280878</th>\n",
       "      <td>A00F3D2</td>\n",
       "      <td>2019-07-25 10:29:48</td>\n",
       "      <td>3</td>\n",
       "    </tr>\n",
       "    <tr>\n",
       "      <th>2280879</th>\n",
       "      <td>A00F3D2</td>\n",
       "      <td>2019-07-25 10:29:49</td>\n",
       "      <td>3</td>\n",
       "    </tr>\n",
       "    <tr>\n",
       "      <th>2280880</th>\n",
       "      <td>A00F3D2</td>\n",
       "      <td>2019-07-25 10:29:50</td>\n",
       "      <td>3</td>\n",
       "    </tr>\n",
       "    <tr>\n",
       "      <th>2280881</th>\n",
       "      <td>A00F3D2</td>\n",
       "      <td>2019-07-25 10:29:51</td>\n",
       "      <td>3</td>\n",
       "    </tr>\n",
       "    <tr>\n",
       "      <th>2280882</th>\n",
       "      <td>A00F3D2</td>\n",
       "      <td>2019-07-25 10:29:52</td>\n",
       "      <td>3</td>\n",
       "    </tr>\n",
       "  </tbody>\n",
       "</table>\n",
       "<p>2280883 rows × 3 columns</p>\n",
       "</div>"
      ],
      "text/plain": [
       "              ID            datetime  tag\n",
       "0         A000C8 2019-07-17 06:34:11    3\n",
       "1         A000C8 2019-07-17 06:34:12    3\n",
       "2         A000C8 2019-07-17 06:34:13    3\n",
       "3         A000C8 2019-07-17 06:34:14    3\n",
       "4         A000C8 2019-07-17 06:34:15    3\n",
       "...          ...                 ...  ...\n",
       "2280878  A00F3D2 2019-07-25 10:29:48    3\n",
       "2280879  A00F3D2 2019-07-25 10:29:49    3\n",
       "2280880  A00F3D2 2019-07-25 10:29:50    3\n",
       "2280881  A00F3D2 2019-07-25 10:29:51    3\n",
       "2280882  A00F3D2 2019-07-25 10:29:52    3\n",
       "\n",
       "[2280883 rows x 3 columns]"
      ]
     },
     "execution_count": 52,
     "metadata": {},
     "output_type": "execute_result"
    }
   ],
   "source": [
    "stress"
   ]
  },
  {
   "cell_type": "code",
   "execution_count": 53,
   "metadata": {},
   "outputs": [
    {
     "data": {
      "text/plain": [
       "3    1944470\n",
       "2     181129\n",
       "1     155284\n",
       "Name: tag, dtype: int64"
      ]
     },
     "execution_count": 53,
     "metadata": {},
     "output_type": "execute_result"
    }
   ],
   "source": [
    "stress['tag'].value_counts()"
   ]
  },
  {
   "cell_type": "code",
   "execution_count": 54,
   "metadata": {},
   "outputs": [
    {
     "name": "stdout",
     "output_type": "stream",
     "text": [
      "A000C8\n",
      "Seconds of no-stress: 249733\n",
      "Seconds of pre-stress: 2023\n",
      "Seconds of post-stress: 696\n",
      "A00520\n",
      "Seconds of no-stress: 194849\n",
      "Seconds of pre-stress: 19035\n",
      "Seconds of post-stress: 14240\n",
      "A00708\n",
      "Seconds of no-stress: 137051\n",
      "Seconds of pre-stress: 8547\n",
      "Seconds of post-stress: 6682\n",
      "A00BAF\n",
      "Seconds of no-stress: 41290\n",
      "Seconds of pre-stress: 4689\n",
      "Seconds of post-stress: 3815\n",
      "A00C5A\n",
      "Seconds of no-stress: 204713\n",
      "Seconds of pre-stress: 34965\n",
      "Seconds of post-stress: 31648\n",
      "A00E0B\n",
      "Seconds of no-stress: 225284\n",
      "Seconds of pre-stress: 12799\n",
      "Seconds of post-stress: 13841\n",
      "A00F3D1\n",
      "Seconds of no-stress: 137931\n",
      "Seconds of pre-stress: 11460\n",
      "Seconds of post-stress: 8825\n",
      "A01179\n",
      "Seconds of no-stress: 281663\n",
      "Seconds of pre-stress: 10230\n",
      "Seconds of post-stress: 6591\n",
      "A016901\n",
      "Seconds of no-stress: 162336\n",
      "Seconds of pre-stress: 24707\n",
      "Seconds of post-stress: 14147\n",
      "A016902\n",
      "Seconds of no-stress: 111378\n",
      "Seconds of pre-stress: 14081\n",
      "Seconds of post-stress: 43757\n",
      "A00F3D2\n",
      "Seconds of no-stress: 198242\n",
      "Seconds of pre-stress: 12748\n",
      "Seconds of post-stress: 36887\n"
     ]
    }
   ],
   "source": [
    "for id in stress.ID.unique():\n",
    "    print(id)\n",
    "    print(f'Seconds of no-stress: {len(stress.loc[(stress.ID == id) & (stress.tag == 3)])}')\n",
    "    print(f'Seconds of pre-stress: {len(stress.loc[(stress.ID == id) & (stress.tag == 1)])}')\n",
    "    print(f'Seconds of post-stress: {len(stress.loc[(stress.ID == id) & (stress.tag == 2)])}')"
   ]
  }
 ],
 "metadata": {
  "interpreter": {
   "hash": "aee8b7b246df8f9039afb4144a1f6fd8d2ca17a180786b69acc140d282b71a49"
  },
  "kernelspec": {
   "display_name": "Python 3.10.2 64-bit",
   "language": "python",
   "name": "python3"
  },
  "language_info": {
   "codemirror_mode": {
    "name": "ipython",
    "version": 3
   },
   "file_extension": ".py",
   "mimetype": "text/x-python",
   "name": "python",
   "nbconvert_exporter": "python",
   "pygments_lexer": "ipython3",
   "version": "3.9.7"
  },
  "orig_nbformat": 4
 },
 "nbformat": 4,
 "nbformat_minor": 2
}
