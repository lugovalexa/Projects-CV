{
 "cells": [
  {
   "cell_type": "markdown",
   "id": "99ff5f94-a6b4-4dc2-a444-b9d14dc6721f",
   "metadata": {},
   "source": [
    "# Data preprocessing"
   ]
  },
  {
   "cell_type": "markdown",
   "id": "ef7202be-5979-4f51-b915-403ae9b016af",
   "metadata": {
    "tags": []
   },
   "source": [
    "## Merging all indicators into one csv file for each individual"
   ]
  },
  {
   "cell_type": "markdown",
   "id": "41437362-1edf-49ec-9cf9-f5c2d1acc2df",
   "metadata": {},
   "source": [
    "### Importing libraries"
   ]
  },
  {
   "cell_type": "code",
   "execution_count": 1,
   "id": "741b934e-37cc-4e45-8d6c-f4a67615649c",
   "metadata": {},
   "outputs": [],
   "source": [
    "import pandas as pd\n",
    "import glob\n",
    "import csv\n",
    "import math\n",
    "import time\n",
    "from collections import OrderedDict\n",
    "import os\n",
    "import time\n",
    "import os.path\n",
    "import warnings\n",
    "warnings.filterwarnings(\"ignore\")"
   ]
  },
  {
   "cell_type": "code",
   "execution_count": 12,
   "id": "4b7e6952-d1b2-41cb-8576-76dddfe7cf75",
   "metadata": {},
   "outputs": [],
   "source": [
    "folders = glob.glob('./Empatica E4/*')\n",
    "for i in folders:\n",
    "    people_days = glob.glob(f'./{i}/*')\n",
    "        "
   ]
  },
  {
   "cell_type": "markdown",
   "id": "b674f7ee-2d08-4829-9d1c-a203a3e9ffb2",
   "metadata": {},
   "source": [
    "### Setting static variables"
   ]
  },
  {
   "cell_type": "code",
   "execution_count": 13,
   "id": "1b4bde12-027b-4860-a867-3375c6b55911",
   "metadata": {},
   "outputs": [],
   "source": [
    "gravX = 0\n",
    "gravY = 0\n",
    "gravZ = 0\n",
    "\n",
    "EDAHertz = 4\n",
    "BVPHertz = 64\n",
    "TEMPHertz = 4\n",
    "ACCHertz = 32"
   ]
  },
  {
   "cell_type": "markdown",
   "id": "961e3088-1c4d-4c8e-a39c-d727bd9c213a",
   "metadata": {},
   "source": [
    "### Converting time to normal format function"
   ]
  },
  {
   "cell_type": "code",
   "execution_count": 14,
   "id": "81d49839-595f-403e-a2a6-2c81a4f2a206",
   "metadata": {},
   "outputs": [],
   "source": [
    "def convertMilisToTime(milis):\n",
    "    return time.strftime('%Y-%m-%d %H:%M:%S', time.gmtime(int(round(milis))))"
   ]
  },
  {
   "cell_type": "markdown",
   "id": "880d30a8-c19c-4ff9-a65f-2fcf7fc2f7da",
   "metadata": {},
   "source": [
    "### Processing acceleration function"
   ]
  },
  {
   "cell_type": "code",
   "execution_count": 15,
   "id": "ace52443-3054-4f84-93e4-f17ad1a52ea5",
   "metadata": {},
   "outputs": [],
   "source": [
    "def processAcceleration(x,y,z):\n",
    "    #converting to G values: https://support.empatica.com/hc/en-us/articles/201608896-Data-export-and-formatting-from-Empatica-Connect-\n",
    "    x = float(x) * 2/128\n",
    "    y = float(y) * 2/128\n",
    "    z = float(z) * 2/128\n",
    "    #calculating effect of gravity\n",
    "    alpha = 0.8\n",
    "    global gravX\n",
    "    global gravY\n",
    "    global gravZ\n",
    "    #global variables for applying low pass filter on acceleration values\n",
    "    gravX = alpha * gravX + (1 - alpha) * x;\n",
    "    gravY = alpha * gravY + (1 - alpha) * y;\n",
    "    gravZ = alpha * gravZ + (1 - alpha) * z;\n",
    "    #removing gravity's effect: https://developer.android.com/reference/android/hardware/SensorEvent.html#values\n",
    "    x = x - gravX\n",
    "    y = y - gravY\n",
    "    z = z - gravZ\n",
    "    #total acceleration from all 3 axes: http://physics.stackexchange.com/questions/41653/how-do-i-get-the-total-acceleration-from-3-axes\n",
    "    overall = math.sqrt(x*x+y*y+z*z)\n",
    "    return {'x':x,'y':y,'z':z,'overall':overall}"
   ]
  },
  {
   "cell_type": "markdown",
   "id": "e21cdd52-eadb-4063-ae1f-dd58f145bdb4",
   "metadata": {},
   "source": [
    "### Reading ACC data function"
   ]
  },
  {
   "cell_type": "code",
   "execution_count": 16,
   "id": "467428b0-2e20-4414-a899-0ca084329292",
   "metadata": {},
   "outputs": [],
   "source": [
    "def readAccFile(file):\n",
    "    dict = OrderedDict()\n",
    "    #print (\"-->Reading file:\" + file)\n",
    "    with open(file, 'r') as csvfile:\n",
    "        reader = csv.reader(csvfile, delimiter=',')\n",
    "        i=0;\n",
    "        for row in reader:\n",
    "            if(i == 0):\n",
    "                timestamp = float(row[0])+3600*2 #converting from string to float rounds and then to int\n",
    "            elif(i == 1):    \n",
    "                hertz=float(row[0])\n",
    "            elif(i == 2):\n",
    "                dict[timestamp]= processAcceleration(row[0],row[1],row[2])\n",
    "            else:\n",
    "                timestamp = timestamp + 1.0/hertz \n",
    "                dict[timestamp] = processAcceleration(row[0],row[1],row[2])\n",
    "            i = i + 1\n",
    "       \n",
    "    return dict"
   ]
  },
  {
   "cell_type": "markdown",
   "id": "60aa180d-4bad-4b92-8183-9c04cabc002c",
   "metadata": {},
   "source": [
    "### Reading HR, EDA, BVP and TEMP data function"
   ]
  },
  {
   "cell_type": "code",
   "execution_count": 17,
   "id": "b0390432-67c6-4191-829d-06cb6a0586c4",
   "metadata": {},
   "outputs": [],
   "source": [
    "def readFile(file):\n",
    "    dict = OrderedDict() \n",
    "    #print (\"-->Reading file:\" + file)\n",
    "    with open(file, 'r') as csvfile:\n",
    "         reader = csv.reader(csvfile, delimiter='\\n') \n",
    "         i=0;\n",
    "         for row in reader:\n",
    "             if(i == 0):\n",
    "                 timestamp=row[0]\n",
    "                 timestamp = float(timestamp)+3600*2 #converting from string to float rounds and then to int\n",
    "             elif(i == 1):\n",
    "                 hertz=float(row[0])\n",
    "             elif(i == 2):\n",
    "                 dict[timestamp]=row[0]\n",
    "             else:\n",
    "                 timestamp = timestamp + 1.0/hertz\n",
    "                 dict[timestamp]=row[0]\n",
    "             i = i + 1.0\n",
    "    return dict"
   ]
  },
  {
   "cell_type": "markdown",
   "id": "d4d73205-22e9-47f5-9e84-4fd34cdd812c",
   "metadata": {},
   "source": [
    "### Reading IBI data function"
   ]
  },
  {
   "cell_type": "code",
   "execution_count": 18,
   "id": "a14f59a5-dfa4-4327-a306-92ba97a2c379",
   "metadata": {},
   "outputs": [],
   "source": [
    "def readIBI_File(file):\n",
    "    dict = OrderedDict()\n",
    "    #print (\"-->Reading file:\" + file)\n",
    "    with open(file, 'r') as csvfile:\n",
    "        reader = csv.reader(csvfile, delimiter = ',')\n",
    "        initialTimestamp = 0.0\n",
    "        i = 0;\n",
    "        for row in reader:\n",
    "            if(i == 0):\n",
    "                initialTimestamp = float(row[0])+3600*2\n",
    "                #print (\"Initial Timestamp \",initialTimestamp,\" exact Time: \",convertMilisToTime(initialTimestamp))\n",
    "            else:\n",
    "                timestamp = initialTimestamp + round(float(row[0]),1)\n",
    "                dict[timestamp] = float(row[1])\n",
    "            i = i + 1\n",
    "    return dict"
   ]
  },
  {
   "cell_type": "markdown",
   "id": "852cfc4f-f56d-4f8b-bd2d-8c0d6f31dd3b",
   "metadata": {},
   "source": [
    "### Reading data and merging all data into one dataset for each individual and day"
   ]
  },
  {
   "cell_type": "code",
   "execution_count": 11,
   "id": "fdb2cf24-b517-4574-ad34-1691e0f18dd3",
   "metadata": {},
   "outputs": [
    {
     "name": "stdout",
     "output_type": "stream",
     "text": [
      "exception ././Empatica E4/A00520 F/2307_A00520\n"
     ]
    }
   ],
   "source": [
    "folders1 = glob.glob('./Empatica E4/*')\n",
    "\n",
    "for i in folders1:\n",
    "    people_days = glob.glob(f'./{i}/*')\n",
    "    for day in people_days:\n",
    "        participantID = day.split(\"/\")[3]\n",
    "        outputFile = day + \"/mergedBioData.csv\"\n",
    "        ACC = {}\n",
    "        ACC = readAccFile(day +'/ACC.csv')  \n",
    "        HR = {}\n",
    "        HR = readFile(day +'/HR.csv')\n",
    "        EDA = {}\n",
    "        EDA = readFile(day +'/EDA.csv')\n",
    "        BVP = {}\n",
    "        BVP = readFile(day +'/BVP.csv')\n",
    "        TEMP = {}\n",
    "        TEMP = readFile(day +'/TEMP.csv')\n",
    "        try:\n",
    "            IBI = {}\n",
    "            IBI = readIBI_File(day +'/IBI.csv')\n",
    "        except:\n",
    "            print(\"exception\", day)\n",
    "            \n",
    "            \n",
    "        count = 0 #count of how many timestamps are the same\n",
    "        total = 0 #total of measurements with the same timestamp\n",
    "        start_time = convertMilisToTime(time.time()+3600*2) #calculating start time\n",
    "\n",
    "        with open(outputFile,'w') as f1:\n",
    "            writer=csv.writer(f1, delimiter=',',lineterminator='\\n',)\n",
    "            row =\"ID\",\"Timestamp\",\"Hour\",\"HRV\",\"EDA\",\"BVP\",\"TEMP\",\"ACC_X\",\"ACC_Y\",\"ACC_Z\",\"ACC_Overall\",\"SumIBI\",\"Beats\"\n",
    "            writer.writerow(row)    \n",
    "            for timestampHR, hr in HR.items():\n",
    "                timestamp = convertMilisToTime(timestampHR)\n",
    "                hour = timestamp.split(\" \") #splitting timestamp and keeping hour \n",
    "                #merging HRV with EDA\n",
    "                i = 0.0\n",
    "                total = 0.0\n",
    "                count = 0\n",
    "                meanEDA = 0.0\n",
    "                while i < 1.0:\n",
    "                    if (timestampHR + i in EDA):\n",
    "                        total = total + float(EDA[timestampHR+i])\n",
    "                        count = count+1\n",
    "                    i = i + 1.0/EDAHertz\n",
    "                if(count > 0):\n",
    "                    meanEDA = total/count\n",
    "                #merging HRV with BVP \n",
    "                i = 0.0\n",
    "                total = 0.0\n",
    "                count = 0\n",
    "                meanBVP = 0.0\n",
    "                while i < 1.0:\n",
    "                    if (timestampHR + i in BVP):\n",
    "                        total = total + float(BVP[timestampHR+i])\n",
    "                        count = count+1\n",
    "                    i = i + 1.0/BVPHertz\n",
    "                if(count > 0):\n",
    "                    meanBVP = total/count\n",
    "                #merging HRV with TEMP\n",
    "                i = 0.0\n",
    "                total = 0.0\n",
    "                count = 0\n",
    "                meanTemp = 0.0\n",
    "                while i < 1.0:\n",
    "                    if (timestampHR + i in TEMP):\n",
    "                        total = total + float(TEMP[timestampHR+i])\n",
    "                        count = count+1\n",
    "                    i = i + 1.0/TEMPHertz\n",
    "                if(count > 0):\n",
    "                    meanTEMP = total/count\n",
    "                #merging HRV with ACC\n",
    "                i = 0.0\n",
    "                totalX = 0.0\n",
    "                totalY = 0.0\n",
    "                totalZ = 0.0\n",
    "                totalOverall = 0.0\n",
    "                count = 0\n",
    "                meanX = 0.0\n",
    "                meanY = 0.0\n",
    "                meanZ = 0.0\n",
    "                meanOverall = 0.0\n",
    "                while i < 1.0:\n",
    "                    if (timestampHR + i in ACC):\n",
    "                        totalX = totalX + float(ACC[timestampHR+i]['x'])\n",
    "                        totalY = totalY + float(ACC[timestampHR+i]['y'])\n",
    "                        totalZ = totalZ + float(ACC[timestampHR+i]['z'])\n",
    "                        totalOverall = totalOverall + float(ACC[timestampHR+i]['overall'])\n",
    "                        count = count+1\n",
    "                    i = i + 1.0/ACCHertz\n",
    "                if(count > 0):\n",
    "                    meanX = totalX/count\n",
    "                    meanY = totalY/count\n",
    "                    meanZ = totalZ/count\n",
    "                    meanOverall = totalOverall/count\n",
    "                #merging HRV with IBI in 1 second timeframes: Sums up all IBI occurring in 1 sec time frame.\n",
    "                i = 0.0\n",
    "                total = 0.0\n",
    "                count = 0\n",
    "                sumIBI = 0.0\n",
    "                while i < 1.0:\n",
    "                    if(timestampHR + i in IBI):\n",
    "                        total = total + float(IBI[timestampHR+i])\n",
    "                        count = count + 1\n",
    "                    i = i + 0.1\n",
    "                if(count > 0):\n",
    "                    sumIBI = total\n",
    "\n",
    "                row = participantID,timestamp,hour[1],hr,meanEDA,meanBVP,meanTEMP,meanX,meanY,meanZ,meanOverall,sumIBI,count\n",
    "                writer.writerow(row) "
   ]
  },
  {
   "cell_type": "markdown",
   "id": "0351342b",
   "metadata": {},
   "source": [
    "## Merging individual datasets into one common"
   ]
  },
  {
   "cell_type": "markdown",
   "id": "0adf730d",
   "metadata": {},
   "source": [
    "### Getting directories"
   ]
  },
  {
   "cell_type": "code",
   "execution_count": 19,
   "id": "0cf102ff",
   "metadata": {},
   "outputs": [],
   "source": [
    "directories = []\n",
    "for root, dirs, files in os.walk(\"/Users/alexandralugova/Documents/GitHub/GEM/Empatica E4\"):\n",
    "    for f in files:\n",
    "        if f.find(\"mergedBioData.csv\")>=0:\n",
    "            directories.append(f\"{root}/{f}\")"
   ]
  },
  {
   "cell_type": "markdown",
   "id": "2a7a70e3",
   "metadata": {},
   "source": [
    "### Merging all datasets"
   ]
  },
  {
   "cell_type": "code",
   "execution_count": 22,
   "id": "03ada0ab",
   "metadata": {},
   "outputs": [
    {
     "data": {
      "text/html": [
       "<div>\n",
       "<style scoped>\n",
       "    .dataframe tbody tr th:only-of-type {\n",
       "        vertical-align: middle;\n",
       "    }\n",
       "\n",
       "    .dataframe tbody tr th {\n",
       "        vertical-align: top;\n",
       "    }\n",
       "\n",
       "    .dataframe thead th {\n",
       "        text-align: right;\n",
       "    }\n",
       "</style>\n",
       "<table border=\"1\" class=\"dataframe\">\n",
       "  <thead>\n",
       "    <tr style=\"text-align: right;\">\n",
       "      <th></th>\n",
       "      <th>ID</th>\n",
       "      <th>Timestamp</th>\n",
       "      <th>Hour</th>\n",
       "      <th>HRV</th>\n",
       "      <th>EDA</th>\n",
       "      <th>BVP</th>\n",
       "      <th>TEMP</th>\n",
       "      <th>ACC_X</th>\n",
       "      <th>ACC_Y</th>\n",
       "      <th>ACC_Z</th>\n",
       "      <th>ACC_Overall</th>\n",
       "      <th>SumIBI</th>\n",
       "      <th>Beats</th>\n",
       "    </tr>\n",
       "  </thead>\n",
       "  <tbody>\n",
       "    <tr>\n",
       "      <th>0</th>\n",
       "      <td>A00520 F</td>\n",
       "      <td>2019-07-21 01:24:45</td>\n",
       "      <td>01:24:45</td>\n",
       "      <td>61.00</td>\n",
       "      <td>1.736234</td>\n",
       "      <td>-40.107969</td>\n",
       "      <td>35.57</td>\n",
       "      <td>-0.000124</td>\n",
       "      <td>-1.126969e-03</td>\n",
       "      <td>-0.000433</td>\n",
       "      <td>0.008625</td>\n",
       "      <td>0.0</td>\n",
       "      <td>0</td>\n",
       "    </tr>\n",
       "    <tr>\n",
       "      <th>1</th>\n",
       "      <td>A00520 F</td>\n",
       "      <td>2019-07-21 01:24:46</td>\n",
       "      <td>01:24:46</td>\n",
       "      <td>72.00</td>\n",
       "      <td>1.730151</td>\n",
       "      <td>40.258125</td>\n",
       "      <td>35.55</td>\n",
       "      <td>0.001707</td>\n",
       "      <td>7.699929e-04</td>\n",
       "      <td>0.002845</td>\n",
       "      <td>0.011311</td>\n",
       "      <td>0.0</td>\n",
       "      <td>0</td>\n",
       "    </tr>\n",
       "    <tr>\n",
       "      <th>2</th>\n",
       "      <td>A00520 F</td>\n",
       "      <td>2019-07-21 01:24:47</td>\n",
       "      <td>01:24:47</td>\n",
       "      <td>81.33</td>\n",
       "      <td>1.725349</td>\n",
       "      <td>73.228437</td>\n",
       "      <td>35.55</td>\n",
       "      <td>-0.001463</td>\n",
       "      <td>-1.764202e-03</td>\n",
       "      <td>-0.002908</td>\n",
       "      <td>0.015706</td>\n",
       "      <td>0.0</td>\n",
       "      <td>0</td>\n",
       "    </tr>\n",
       "    <tr>\n",
       "      <th>3</th>\n",
       "      <td>A00520 F</td>\n",
       "      <td>2019-07-21 01:24:48</td>\n",
       "      <td>01:24:48</td>\n",
       "      <td>75.75</td>\n",
       "      <td>1.666123</td>\n",
       "      <td>-159.891094</td>\n",
       "      <td>35.55</td>\n",
       "      <td>-0.000630</td>\n",
       "      <td>1.896251e-04</td>\n",
       "      <td>-0.000394</td>\n",
       "      <td>0.005511</td>\n",
       "      <td>0.0</td>\n",
       "      <td>0</td>\n",
       "    </tr>\n",
       "    <tr>\n",
       "      <th>4</th>\n",
       "      <td>A00520 F</td>\n",
       "      <td>2019-07-21 01:24:49</td>\n",
       "      <td>01:24:49</td>\n",
       "      <td>72.40</td>\n",
       "      <td>1.685012</td>\n",
       "      <td>109.886719</td>\n",
       "      <td>35.55</td>\n",
       "      <td>0.000144</td>\n",
       "      <td>-4.122786e-04</td>\n",
       "      <td>-0.000219</td>\n",
       "      <td>0.007369</td>\n",
       "      <td>0.0</td>\n",
       "      <td>0</td>\n",
       "    </tr>\n",
       "    <tr>\n",
       "      <th>...</th>\n",
       "      <td>...</td>\n",
       "      <td>...</td>\n",
       "      <td>...</td>\n",
       "      <td>...</td>\n",
       "      <td>...</td>\n",
       "      <td>...</td>\n",
       "      <td>...</td>\n",
       "      <td>...</td>\n",
       "      <td>...</td>\n",
       "      <td>...</td>\n",
       "      <td>...</td>\n",
       "      <td>...</td>\n",
       "      <td>...</td>\n",
       "    </tr>\n",
       "    <tr>\n",
       "      <th>2283331</th>\n",
       "      <td>A00708</td>\n",
       "      <td>2019-07-18 04:09:30</td>\n",
       "      <td>04:09:30</td>\n",
       "      <td>151.15</td>\n",
       "      <td>0.021783</td>\n",
       "      <td>-0.140625</td>\n",
       "      <td>24.23</td>\n",
       "      <td>-0.000007</td>\n",
       "      <td>-2.220446e-16</td>\n",
       "      <td>0.000033</td>\n",
       "      <td>0.005346</td>\n",
       "      <td>0.0</td>\n",
       "      <td>0</td>\n",
       "    </tr>\n",
       "    <tr>\n",
       "      <th>2283332</th>\n",
       "      <td>A00708</td>\n",
       "      <td>2019-07-18 04:09:31</td>\n",
       "      <td>04:09:31</td>\n",
       "      <td>151.95</td>\n",
       "      <td>0.021462</td>\n",
       "      <td>0.160156</td>\n",
       "      <td>24.21</td>\n",
       "      <td>-0.000024</td>\n",
       "      <td>-2.220446e-16</td>\n",
       "      <td>-0.000025</td>\n",
       "      <td>0.004817</td>\n",
       "      <td>0.0</td>\n",
       "      <td>0</td>\n",
       "    </tr>\n",
       "    <tr>\n",
       "      <th>2283333</th>\n",
       "      <td>A00708</td>\n",
       "      <td>2019-07-18 04:09:32</td>\n",
       "      <td>04:09:32</td>\n",
       "      <td>152.73</td>\n",
       "      <td>0.022103</td>\n",
       "      <td>-0.084844</td>\n",
       "      <td>24.23</td>\n",
       "      <td>-0.000159</td>\n",
       "      <td>-2.220446e-16</td>\n",
       "      <td>0.000469</td>\n",
       "      <td>0.004291</td>\n",
       "      <td>0.0</td>\n",
       "      <td>0</td>\n",
       "    </tr>\n",
       "    <tr>\n",
       "      <th>2283334</th>\n",
       "      <td>A00708</td>\n",
       "      <td>2019-07-18 04:09:33</td>\n",
       "      <td>04:09:33</td>\n",
       "      <td>153.52</td>\n",
       "      <td>0.023064</td>\n",
       "      <td>0.116094</td>\n",
       "      <td>24.23</td>\n",
       "      <td>-0.000023</td>\n",
       "      <td>-2.220446e-16</td>\n",
       "      <td>0.000075</td>\n",
       "      <td>0.007182</td>\n",
       "      <td>0.0</td>\n",
       "      <td>0</td>\n",
       "    </tr>\n",
       "    <tr>\n",
       "      <th>2283335</th>\n",
       "      <td>A00708</td>\n",
       "      <td>2019-07-18 04:09:34</td>\n",
       "      <td>04:09:34</td>\n",
       "      <td>154.35</td>\n",
       "      <td>0.000000</td>\n",
       "      <td>-0.296667</td>\n",
       "      <td>24.23</td>\n",
       "      <td>0.000562</td>\n",
       "      <td>-2.220446e-16</td>\n",
       "      <td>-0.000315</td>\n",
       "      <td>0.005281</td>\n",
       "      <td>0.0</td>\n",
       "      <td>0</td>\n",
       "    </tr>\n",
       "  </tbody>\n",
       "</table>\n",
       "<p>2283336 rows × 13 columns</p>\n",
       "</div>"
      ],
      "text/plain": [
       "               ID           Timestamp      Hour     HRV       EDA         BVP  \\\n",
       "0        A00520 F 2019-07-21 01:24:45  01:24:45   61.00  1.736234  -40.107969   \n",
       "1        A00520 F 2019-07-21 01:24:46  01:24:46   72.00  1.730151   40.258125   \n",
       "2        A00520 F 2019-07-21 01:24:47  01:24:47   81.33  1.725349   73.228437   \n",
       "3        A00520 F 2019-07-21 01:24:48  01:24:48   75.75  1.666123 -159.891094   \n",
       "4        A00520 F 2019-07-21 01:24:49  01:24:49   72.40  1.685012  109.886719   \n",
       "...           ...                 ...       ...     ...       ...         ...   \n",
       "2283331    A00708 2019-07-18 04:09:30  04:09:30  151.15  0.021783   -0.140625   \n",
       "2283332    A00708 2019-07-18 04:09:31  04:09:31  151.95  0.021462    0.160156   \n",
       "2283333    A00708 2019-07-18 04:09:32  04:09:32  152.73  0.022103   -0.084844   \n",
       "2283334    A00708 2019-07-18 04:09:33  04:09:33  153.52  0.023064    0.116094   \n",
       "2283335    A00708 2019-07-18 04:09:34  04:09:34  154.35  0.000000   -0.296667   \n",
       "\n",
       "          TEMP     ACC_X         ACC_Y     ACC_Z  ACC_Overall  SumIBI  Beats  \n",
       "0        35.57 -0.000124 -1.126969e-03 -0.000433     0.008625     0.0      0  \n",
       "1        35.55  0.001707  7.699929e-04  0.002845     0.011311     0.0      0  \n",
       "2        35.55 -0.001463 -1.764202e-03 -0.002908     0.015706     0.0      0  \n",
       "3        35.55 -0.000630  1.896251e-04 -0.000394     0.005511     0.0      0  \n",
       "4        35.55  0.000144 -4.122786e-04 -0.000219     0.007369     0.0      0  \n",
       "...        ...       ...           ...       ...          ...     ...    ...  \n",
       "2283331  24.23 -0.000007 -2.220446e-16  0.000033     0.005346     0.0      0  \n",
       "2283332  24.21 -0.000024 -2.220446e-16 -0.000025     0.004817     0.0      0  \n",
       "2283333  24.23 -0.000159 -2.220446e-16  0.000469     0.004291     0.0      0  \n",
       "2283334  24.23 -0.000023 -2.220446e-16  0.000075     0.007182     0.0      0  \n",
       "2283335  24.23  0.000562 -2.220446e-16 -0.000315     0.005281     0.0      0  \n",
       "\n",
       "[2283336 rows x 13 columns]"
      ]
     },
     "execution_count": 22,
     "metadata": {},
     "output_type": "execute_result"
    }
   ],
   "source": [
    "df = pd.DataFrame()\n",
    "for table in directories:\n",
    "    df = df.append(pd.read_csv(table, parse_dates=['Timestamp']))\n",
    "df = df.reset_index(drop=True)\n",
    "df"
   ]
  },
  {
   "cell_type": "markdown",
   "id": "eac7dd35",
   "metadata": {},
   "source": [
    "## Adding additional data"
   ]
  },
  {
   "cell_type": "markdown",
   "id": "f2903634",
   "metadata": {},
   "source": [
    "### Adding tags"
   ]
  },
  {
   "cell_type": "code",
   "execution_count": 23,
   "id": "04bfb3fb",
   "metadata": {},
   "outputs": [],
   "source": [
    "folders1 = glob.glob('./Empatica E4/*')\n",
    "tags = pd.DataFrame()\n",
    "for i in folders1:\n",
    "    people_days = glob.glob(f'./{i}/*')\n",
    "    for day in people_days:\n",
    "        participantID = day.split(\"/\")[3]\n",
    "        try:\n",
    "            table = pd.read_csv(day +'/tags.csv')\n",
    "            table_new = []\n",
    "            for i in table.iloc[:, 0]:\n",
    "                i = convertMilisToTime(i)\n",
    "                table_new.append(i)\n",
    "            table_new = pd.DataFrame(table_new, columns = ['Timestamp'])\n",
    "            table_new['ID'] = participantID\n",
    "            table_new['Tag'] = 1\n",
    "            tags = tags.append(table_new, ignore_index=True)\n",
    "        except:\n",
    "            pass"
   ]
  },
  {
   "cell_type": "code",
   "execution_count": 24,
   "id": "45a9101e",
   "metadata": {},
   "outputs": [],
   "source": [
    "tags['Timestamp'] = pd.to_datetime(tags['Timestamp'])"
   ]
  },
  {
   "cell_type": "code",
   "execution_count": 25,
   "id": "06642d49",
   "metadata": {},
   "outputs": [],
   "source": [
    "df = pd.merge(df, tags, on=['Timestamp','ID'], how='left').fillna(0).drop_duplicates()"
   ]
  },
  {
   "cell_type": "markdown",
   "id": "cd90de16",
   "metadata": {},
   "source": [
    "### Extracting date from datetime"
   ]
  },
  {
   "cell_type": "code",
   "execution_count": 29,
   "id": "3906c2ee",
   "metadata": {},
   "outputs": [],
   "source": [
    "df['Date'] = pd.to_datetime(df['Timestamp']).dt.date"
   ]
  },
  {
   "cell_type": "markdown",
   "id": "2bed12d0",
   "metadata": {},
   "source": [
    "### Adding working hours"
   ]
  },
  {
   "cell_type": "code",
   "execution_count": 26,
   "id": "92e77ab0",
   "metadata": {},
   "outputs": [],
   "source": [
    "df['Work'] = 0"
   ]
  },
  {
   "cell_type": "code",
   "execution_count": 31,
   "id": "04dbc07b",
   "metadata": {},
   "outputs": [],
   "source": [
    "df.loc[(df['ID'] == 'A00C5A') & (df['Timestamp'] >= '2019-07-19 08:00:00') & (df['Timestamp'] <= '2019-07-19 14:00:00'), 'Work'] = 1\n",
    "df.loc[(df['ID'] == 'A00C5A') & (df['Timestamp'] >= '2019-07-20 08:00:00') & (df['Timestamp'] <= '2019-07-20 14:00:00'), 'Work'] = 1\n",
    "df.loc[(df['ID'] == 'A00C5A') & (df['Timestamp'] >= '2019-07-21 08:00:00') & (df['Timestamp'] <= '2019-07-21 20:00:00'), 'Work'] = 1\n",
    "df.loc[(df['ID'] == 'A00C5A') & (df['Timestamp'] >= '2019-07-22 14:00:00') & (df['Timestamp'] <= '2019-07-22 20:00:00'), 'Work'] = 1\n",
    "df.loc[(df['ID'] == 'A00C5A') & (df['Timestamp'] >= '2019-07-23 20:00:00') & (df['Timestamp'] <= '2019-07-24 09:00:00'), 'Work'] = 1\n",
    "df.loc[(df['ID'] == 'A00C5A') & (df['Timestamp'] >= '2019-07-25 08:00:00') & (df['Timestamp'] <= '2019-07-25 19:00:00'), 'Work'] = 1\n",
    "\n",
    "df.loc[(df['ID'] == 'A00E0B') & (df['Timestamp'] >= '2019-07-17 07:00:00') & (df['Timestamp'] <= '2019-07-17 14:00:00'), 'Work'] = 1\n",
    "df.loc[(df['ID'] == 'A00E0B') & (df['Timestamp'] >= '2019-07-18 07:00:00') & (df['Timestamp'] <= '2019-07-18 14:00:00'), 'Work'] = 1\n",
    "df.loc[(df['ID'] == 'A00E0B') & (df['Timestamp'] >= '2019-07-19 14:00:00') & (df['Timestamp'] <= '2019-07-19 22:00:00'), 'Work'] = 1\n",
    "df.loc[(df['ID'] == 'A00E0B') & (df['Timestamp'] >= '2019-07-20 14:00:00') & (df['Timestamp'] <= '2019-07-20 22:00:00'), 'Work'] = 1\n",
    "df.loc[(df['ID'] == 'A00E0B') & (df['Timestamp'] >= '2019-07-21 07:00:00') & (df['Timestamp'] <= '2019-07-21 14:00:00'), 'Work'] = 1\n",
    "\n",
    "df.loc[(df['ID'] == 'A00708') & (df['Timestamp'] >= '2019-07-16 08:00:00') & (df['Timestamp'] <= '2019-07-16 18:00:00'), 'Work'] = 1\n",
    "df.loc[(df['ID'] == 'A00708') & (df['Timestamp'] >= '2019-07-17 08:00:00') & (df['Timestamp'] <= '2019-07-17 18:00:00'), 'Work'] = 1\n",
    "df.loc[(df['ID'] == 'A00708') & (df['Timestamp'] >= '2019-07-18 08:00:00') & (df['Timestamp'] <= '2019-07-18 18:00:00'), 'Work'] = 1\n",
    "\n",
    "df.loc[(df['ID'] == 'A00F3D(2)') & (df['Timestamp'] >= '2019-07-22 10:00:00') & (df['Timestamp'] <= '2019-07-22 14:00:00'), 'Work'] = 1\n",
    "df.loc[(df['ID'] == 'A00F3D(2)') & (df['Timestamp'] >= '2019-07-23 06:00:00') & (df['Timestamp'] <= '2019-07-23 14:00:00'), 'Work'] = 1\n",
    "df.loc[(df['ID'] == 'A00F3D(2)') & (df['Timestamp'] >= '2019-07-24 06:00:00') & (df['Timestamp'] <= '2019-07-24 14:00:00'), 'Work'] = 1"
   ]
  },
  {
   "cell_type": "markdown",
   "id": "92b0a327",
   "metadata": {},
   "source": [
    "### Adding job titles"
   ]
  },
  {
   "cell_type": "code",
   "execution_count": 33,
   "id": "01a6a59f",
   "metadata": {},
   "outputs": [],
   "source": [
    "df['Job'] = 'not known'\n",
    "df.loc[(df['ID'] == 'A00C5A') | (df['ID'] == 'A00708'), 'Job'] = 'doctor'\n",
    "df.loc[(df['ID'] == 'A01690') | (df['ID'] == 'A01690 2F') | (df['ID'] == 'A00E0B') | (df['ID'] == 'A00F3D(2)') | (df['ID'] == 'A00F3D'), 'Job'] = 'nurse'\n",
    "df.loc[(df['ID'] == 'A000C8'), 'Job'] = 'oss'"
   ]
  },
  {
   "cell_type": "markdown",
   "id": "2211a2d9",
   "metadata": {},
   "source": [
    "## Adding sex"
   ]
  },
  {
   "cell_type": "code",
   "execution_count": 34,
   "id": "9a4271e9",
   "metadata": {},
   "outputs": [],
   "source": [
    "df['Sex'] = 'not known'\n",
    "df.loc[(df['ID'] == 'A00C5A') | (df['ID'] == 'A01690') | (df['ID'] == 'A01690 2F') | (df['ID'] == 'A00F3D') | (df['ID'] == 'A00F3D(2)'), 'Sex'] = 'F'\n",
    "df.loc[(df['ID'] == 'A000C8') | (df['ID'] == 'A00E0B') | (df['ID'] == 'A00708'), 'Sex'] = 'M'"
   ]
  },
  {
   "cell_type": "markdown",
   "id": "d10fade4",
   "metadata": {},
   "source": [
    "## Adding perceived autonomy levels"
   ]
  },
  {
   "cell_type": "code",
   "execution_count": null,
   "id": "076df1b5",
   "metadata": {},
   "outputs": [],
   "source": [
    "df['Autonomy_perceived'] = 'not known'\n",
    "df.loc[(df['ID'] == 'A00C5A') | (df['ID'] == 'A01690') | (df['ID'] == 'A000C8') |  (df['ID'] == 'A00F3D(2)'), 'Autonomy_perceived'] = '8'\n",
    "df.loc[(df['ID'] == 'A00F3D') |  (df['ID'] == 'A00708'), 'Autonomy_perceived'] = '10'\n",
    "df.loc[(df['ID'] == 'A01690 2F'), 'Autonomy_perceived'] = '7'\n",
    "df.loc[(df['ID'] == 'A00E0B'), 'Autonomy_perceived'] = '6'"
   ]
  },
  {
   "cell_type": "markdown",
   "id": "56bda905",
   "metadata": {},
   "source": [
    "## Adding perceived stress levels"
   ]
  },
  {
   "cell_type": "code",
   "execution_count": null,
   "id": "705071b3",
   "metadata": {},
   "outputs": [],
   "source": [
    "df['Stress_perceived'] = 'not known'\n",
    "df.loc[(df['ID'] == 'A00C5A') | (df['ID'] == 'A00F3D') | (df['ID'] == 'A000C8'), 'Stress_perceived'] = '8'\n",
    "df.loc[(df['ID'] == 'A00E0B') |  (df['ID'] == 'A00708') | (df['ID'] == 'A00F3D(2)'), 'Stress_perceived'] = '7'\n",
    "df.loc[(df['ID'] == 'A01690'), 'Stress_perceived'] = '5'\n",
    "df.loc[(df['ID'] == 'A01690 2F'), 'Stress_perceived'] = '9'"
   ]
  },
  {
   "cell_type": "markdown",
   "id": "e1a8ff56",
   "metadata": {},
   "source": [
    "## Adding PSS stress levels"
   ]
  },
  {
   "cell_type": "code",
   "execution_count": null,
   "id": "c0eedad0",
   "metadata": {},
   "outputs": [],
   "source": [
    "df['Stress_PSS'] = 'not known'\n",
    "df.loc[(df['ID'] == 'A00C5A') | (df['ID'] == 'A000C8'), 'Stress_PSS'] = '19'\n",
    "df.loc[(df['ID'] == 'A01690') |  (df['ID'] == 'A01690 2F') | (df['ID'] == 'A00708'), 'Stress_PSS'] = '22'\n",
    "df.loc[(df['ID'] == 'A00E0B')  |  (df['ID'] == 'A00F3D'), 'Stress_PSS'] = '21'\n",
    "df.loc[(df['ID'] == 'A00F3D(2)'), 'Stress_PSS'] = '17'"
   ]
  },
  {
   "cell_type": "markdown",
   "id": "a8759728",
   "metadata": {},
   "source": [
    "## Basic cleaning"
   ]
  },
  {
   "cell_type": "markdown",
   "id": "51c50494",
   "metadata": {},
   "source": [
    "### Checking data types and correcting them"
   ]
  },
  {
   "cell_type": "code",
   "execution_count": 30,
   "id": "1c7d7cb9",
   "metadata": {},
   "outputs": [
    {
     "name": "stdout",
     "output_type": "stream",
     "text": [
      "<class 'pandas.core.frame.DataFrame'>\n",
      "Int64Index: 2283336 entries, 0 to 2283336\n",
      "Data columns (total 17 columns):\n",
      " #   Column       Dtype         \n",
      "---  ------       -----         \n",
      " 0   ID           object        \n",
      " 1   Timestamp    datetime64[ns]\n",
      " 2   Hour         object        \n",
      " 3   HRV          float64       \n",
      " 4   EDA          float64       \n",
      " 5   BVP          float64       \n",
      " 6   TEMP         float64       \n",
      " 7   ACC_X        float64       \n",
      " 8   ACC_Y        float64       \n",
      " 9   ACC_Z        float64       \n",
      " 10  ACC_Overall  float64       \n",
      " 11  SumIBI       float64       \n",
      " 12  Beats        int64         \n",
      " 13  Tag          float64       \n",
      " 14  Work         int64         \n",
      " 15  Job          object        \n",
      " 16  Date         object        \n",
      "dtypes: datetime64[ns](1), float64(10), int64(2), object(4)\n",
      "memory usage: 313.6+ MB\n"
     ]
    }
   ],
   "source": [
    "df.info()"
   ]
  },
  {
   "cell_type": "code",
   "execution_count": 31,
   "id": "7a67f3b0",
   "metadata": {},
   "outputs": [],
   "source": [
    "df['Date'] = df['Date'].astype('datetime64[ns]')\n",
    "df['Tag'] = df['Tag'].astype('int')"
   ]
  },
  {
   "cell_type": "markdown",
   "id": "7ea7c049",
   "metadata": {},
   "source": [
    "### Checking for missing values"
   ]
  },
  {
   "cell_type": "code",
   "execution_count": 32,
   "id": "e3a6efa1",
   "metadata": {},
   "outputs": [
    {
     "data": {
      "text/plain": [
       "ID             0\n",
       "Timestamp      0\n",
       "Hour           0\n",
       "HRV            0\n",
       "EDA            0\n",
       "BVP            0\n",
       "TEMP           0\n",
       "ACC_X          0\n",
       "ACC_Y          0\n",
       "ACC_Z          0\n",
       "ACC_Overall    0\n",
       "SumIBI         0\n",
       "Beats          0\n",
       "Tag            0\n",
       "Work           0\n",
       "Job            0\n",
       "Date           0\n",
       "dtype: int64"
      ]
     },
     "execution_count": 32,
     "metadata": {},
     "output_type": "execute_result"
    }
   ],
   "source": [
    "df.isnull().sum()"
   ]
  },
  {
   "cell_type": "markdown",
   "id": "df919d38",
   "metadata": {},
   "source": [
    "### Checking for duplicated data"
   ]
  },
  {
   "cell_type": "code",
   "execution_count": 33,
   "id": "d82f58d3",
   "metadata": {},
   "outputs": [
    {
     "data": {
      "text/plain": [
       "0"
      ]
     },
     "execution_count": 33,
     "metadata": {},
     "output_type": "execute_result"
    }
   ],
   "source": [
    "df.duplicated().sum()"
   ]
  },
  {
   "cell_type": "markdown",
   "id": "19ca8644",
   "metadata": {},
   "source": [
    "### Modifying IDs for better use"
   ]
  },
  {
   "cell_type": "code",
   "execution_count": 34,
   "id": "ae9f3198",
   "metadata": {},
   "outputs": [],
   "source": [
    "df.loc[df['ID'] == 'A01690 2F', 'ID'] = 'A016902'\n",
    "df.loc[df['ID'] == 'A01690', 'ID'] = 'A016901'\n",
    "df.loc[df['ID'] == 'A00F3D(2)', 'ID'] = 'A00F3D2'\n",
    "df.loc[df['ID'] == 'A00F3D', 'ID'] = 'A00F3D1'"
   ]
  },
  {
   "cell_type": "markdown",
   "id": "668cfab7",
   "metadata": {},
   "source": [
    "### Setting indexes"
   ]
  },
  {
   "cell_type": "code",
   "execution_count": 35,
   "id": "70ac95ba",
   "metadata": {},
   "outputs": [],
   "source": [
    "df = df.set_index(['ID', 'Timestamp'])"
   ]
  },
  {
   "cell_type": "markdown",
   "id": "9a823b5e",
   "metadata": {},
   "source": [
    "### Reordering columns"
   ]
  },
  {
   "cell_type": "code",
   "execution_count": 36,
   "id": "4e363fb4",
   "metadata": {},
   "outputs": [],
   "source": [
    "df = df.reindex(['Date', 'Hour', 'HRV', 'EDA', 'BVP', 'TEMP', 'ACC_X', 'ACC_Y', 'ACC_Z',\n",
    "       'ACC_Overall', 'SumIBI', 'Beats', 'Tag', 'Work', 'Job'], axis=1)"
   ]
  },
  {
   "cell_type": "markdown",
   "id": "9cd8782e",
   "metadata": {},
   "source": [
    "### Removing SumIBI and Beats columns"
   ]
  },
  {
   "cell_type": "code",
   "execution_count": 5,
   "id": "81fd5cab",
   "metadata": {},
   "outputs": [],
   "source": [
    "df = df.drop(columns=['SumIBI','Beats'])"
   ]
  },
  {
   "cell_type": "markdown",
   "id": "10b1e2a3",
   "metadata": {},
   "source": [
    "### Renaming HRV to HR"
   ]
  },
  {
   "cell_type": "code",
   "execution_count": 6,
   "id": "00d0fffd",
   "metadata": {},
   "outputs": [],
   "source": [
    "df = df.rename(columns={'HRV':'HR'})"
   ]
  },
  {
   "cell_type": "markdown",
   "id": "0e2a033c",
   "metadata": {},
   "source": [
    "## Final dataframe"
   ]
  },
  {
   "cell_type": "code",
   "execution_count": 36,
   "id": "e0ff884b",
   "metadata": {},
   "outputs": [
    {
     "data": {
      "text/html": [
       "<div>\n",
       "<style scoped>\n",
       "    .dataframe tbody tr th:only-of-type {\n",
       "        vertical-align: middle;\n",
       "    }\n",
       "\n",
       "    .dataframe tbody tr th {\n",
       "        vertical-align: top;\n",
       "    }\n",
       "\n",
       "    .dataframe thead th {\n",
       "        text-align: right;\n",
       "    }\n",
       "</style>\n",
       "<table border=\"1\" class=\"dataframe\">\n",
       "  <thead>\n",
       "    <tr style=\"text-align: right;\">\n",
       "      <th></th>\n",
       "      <th></th>\n",
       "      <th>Date</th>\n",
       "      <th>Hour</th>\n",
       "      <th>HR</th>\n",
       "      <th>EDA</th>\n",
       "      <th>BVP</th>\n",
       "      <th>TEMP</th>\n",
       "      <th>ACC_X</th>\n",
       "      <th>ACC_Y</th>\n",
       "      <th>ACC_Z</th>\n",
       "      <th>ACC_Overall</th>\n",
       "      <th>Tag</th>\n",
       "      <th>Work</th>\n",
       "      <th>Job</th>\n",
       "      <th>Sex</th>\n",
       "      <th>Autonomy_perceived</th>\n",
       "      <th>Stress_perceived</th>\n",
       "      <th>Stress_PSS</th>\n",
       "    </tr>\n",
       "    <tr>\n",
       "      <th>ID</th>\n",
       "      <th>Timestamp</th>\n",
       "      <th></th>\n",
       "      <th></th>\n",
       "      <th></th>\n",
       "      <th></th>\n",
       "      <th></th>\n",
       "      <th></th>\n",
       "      <th></th>\n",
       "      <th></th>\n",
       "      <th></th>\n",
       "      <th></th>\n",
       "      <th></th>\n",
       "      <th></th>\n",
       "      <th></th>\n",
       "      <th></th>\n",
       "      <th></th>\n",
       "      <th></th>\n",
       "      <th></th>\n",
       "    </tr>\n",
       "  </thead>\n",
       "  <tbody>\n",
       "    <tr>\n",
       "      <th rowspan=\"5\" valign=\"top\">A00520</th>\n",
       "      <th>2019-07-21 01:24:45</th>\n",
       "      <td>2019-07-21</td>\n",
       "      <td>01:24:45</td>\n",
       "      <td>61.00</td>\n",
       "      <td>1.736234</td>\n",
       "      <td>-40.107969</td>\n",
       "      <td>35.57</td>\n",
       "      <td>-0.000124</td>\n",
       "      <td>-1.126969e-03</td>\n",
       "      <td>-0.000433</td>\n",
       "      <td>0.008625</td>\n",
       "      <td>0</td>\n",
       "      <td>0</td>\n",
       "      <td>not known</td>\n",
       "      <td>not known</td>\n",
       "      <td>not known</td>\n",
       "      <td>not known</td>\n",
       "      <td>not known</td>\n",
       "    </tr>\n",
       "    <tr>\n",
       "      <th>2019-07-21 01:24:46</th>\n",
       "      <td>2019-07-21</td>\n",
       "      <td>01:24:46</td>\n",
       "      <td>72.00</td>\n",
       "      <td>1.730151</td>\n",
       "      <td>40.258125</td>\n",
       "      <td>35.55</td>\n",
       "      <td>0.001707</td>\n",
       "      <td>7.699929e-04</td>\n",
       "      <td>0.002845</td>\n",
       "      <td>0.011311</td>\n",
       "      <td>0</td>\n",
       "      <td>0</td>\n",
       "      <td>not known</td>\n",
       "      <td>not known</td>\n",
       "      <td>not known</td>\n",
       "      <td>not known</td>\n",
       "      <td>not known</td>\n",
       "    </tr>\n",
       "    <tr>\n",
       "      <th>2019-07-21 01:24:47</th>\n",
       "      <td>2019-07-21</td>\n",
       "      <td>01:24:47</td>\n",
       "      <td>81.33</td>\n",
       "      <td>1.725349</td>\n",
       "      <td>73.228437</td>\n",
       "      <td>35.55</td>\n",
       "      <td>-0.001463</td>\n",
       "      <td>-1.764202e-03</td>\n",
       "      <td>-0.002908</td>\n",
       "      <td>0.015706</td>\n",
       "      <td>0</td>\n",
       "      <td>0</td>\n",
       "      <td>not known</td>\n",
       "      <td>not known</td>\n",
       "      <td>not known</td>\n",
       "      <td>not known</td>\n",
       "      <td>not known</td>\n",
       "    </tr>\n",
       "    <tr>\n",
       "      <th>2019-07-21 01:24:48</th>\n",
       "      <td>2019-07-21</td>\n",
       "      <td>01:24:48</td>\n",
       "      <td>75.75</td>\n",
       "      <td>1.666123</td>\n",
       "      <td>-159.891094</td>\n",
       "      <td>35.55</td>\n",
       "      <td>-0.000630</td>\n",
       "      <td>1.896251e-04</td>\n",
       "      <td>-0.000394</td>\n",
       "      <td>0.005511</td>\n",
       "      <td>0</td>\n",
       "      <td>0</td>\n",
       "      <td>not known</td>\n",
       "      <td>not known</td>\n",
       "      <td>not known</td>\n",
       "      <td>not known</td>\n",
       "      <td>not known</td>\n",
       "    </tr>\n",
       "    <tr>\n",
       "      <th>2019-07-21 01:24:49</th>\n",
       "      <td>2019-07-21</td>\n",
       "      <td>01:24:49</td>\n",
       "      <td>72.40</td>\n",
       "      <td>1.685012</td>\n",
       "      <td>109.886719</td>\n",
       "      <td>35.55</td>\n",
       "      <td>0.000144</td>\n",
       "      <td>-4.122786e-04</td>\n",
       "      <td>-0.000219</td>\n",
       "      <td>0.007369</td>\n",
       "      <td>0</td>\n",
       "      <td>0</td>\n",
       "      <td>not known</td>\n",
       "      <td>not known</td>\n",
       "      <td>not known</td>\n",
       "      <td>not known</td>\n",
       "      <td>not known</td>\n",
       "    </tr>\n",
       "    <tr>\n",
       "      <th>...</th>\n",
       "      <th>...</th>\n",
       "      <td>...</td>\n",
       "      <td>...</td>\n",
       "      <td>...</td>\n",
       "      <td>...</td>\n",
       "      <td>...</td>\n",
       "      <td>...</td>\n",
       "      <td>...</td>\n",
       "      <td>...</td>\n",
       "      <td>...</td>\n",
       "      <td>...</td>\n",
       "      <td>...</td>\n",
       "      <td>...</td>\n",
       "      <td>...</td>\n",
       "      <td>...</td>\n",
       "      <td>...</td>\n",
       "      <td>...</td>\n",
       "      <td>...</td>\n",
       "    </tr>\n",
       "    <tr>\n",
       "      <th rowspan=\"5\" valign=\"top\">A00708</th>\n",
       "      <th>2019-07-18 04:09:30</th>\n",
       "      <td>2019-07-18</td>\n",
       "      <td>04:09:30</td>\n",
       "      <td>151.15</td>\n",
       "      <td>0.021783</td>\n",
       "      <td>-0.140625</td>\n",
       "      <td>24.23</td>\n",
       "      <td>-0.000007</td>\n",
       "      <td>-2.220446e-16</td>\n",
       "      <td>0.000033</td>\n",
       "      <td>0.005346</td>\n",
       "      <td>0</td>\n",
       "      <td>0</td>\n",
       "      <td>doctor</td>\n",
       "      <td>M</td>\n",
       "      <td>10</td>\n",
       "      <td>7</td>\n",
       "      <td>22</td>\n",
       "    </tr>\n",
       "    <tr>\n",
       "      <th>2019-07-18 04:09:31</th>\n",
       "      <td>2019-07-18</td>\n",
       "      <td>04:09:31</td>\n",
       "      <td>151.95</td>\n",
       "      <td>0.021462</td>\n",
       "      <td>0.160156</td>\n",
       "      <td>24.21</td>\n",
       "      <td>-0.000024</td>\n",
       "      <td>-2.220446e-16</td>\n",
       "      <td>-0.000025</td>\n",
       "      <td>0.004817</td>\n",
       "      <td>0</td>\n",
       "      <td>0</td>\n",
       "      <td>doctor</td>\n",
       "      <td>M</td>\n",
       "      <td>10</td>\n",
       "      <td>7</td>\n",
       "      <td>22</td>\n",
       "    </tr>\n",
       "    <tr>\n",
       "      <th>2019-07-18 04:09:32</th>\n",
       "      <td>2019-07-18</td>\n",
       "      <td>04:09:32</td>\n",
       "      <td>152.73</td>\n",
       "      <td>0.022103</td>\n",
       "      <td>-0.084844</td>\n",
       "      <td>24.23</td>\n",
       "      <td>-0.000159</td>\n",
       "      <td>-2.220446e-16</td>\n",
       "      <td>0.000469</td>\n",
       "      <td>0.004291</td>\n",
       "      <td>0</td>\n",
       "      <td>0</td>\n",
       "      <td>doctor</td>\n",
       "      <td>M</td>\n",
       "      <td>10</td>\n",
       "      <td>7</td>\n",
       "      <td>22</td>\n",
       "    </tr>\n",
       "    <tr>\n",
       "      <th>2019-07-18 04:09:33</th>\n",
       "      <td>2019-07-18</td>\n",
       "      <td>04:09:33</td>\n",
       "      <td>153.52</td>\n",
       "      <td>0.023064</td>\n",
       "      <td>0.116094</td>\n",
       "      <td>24.23</td>\n",
       "      <td>-0.000023</td>\n",
       "      <td>-2.220446e-16</td>\n",
       "      <td>0.000075</td>\n",
       "      <td>0.007182</td>\n",
       "      <td>0</td>\n",
       "      <td>0</td>\n",
       "      <td>doctor</td>\n",
       "      <td>M</td>\n",
       "      <td>10</td>\n",
       "      <td>7</td>\n",
       "      <td>22</td>\n",
       "    </tr>\n",
       "    <tr>\n",
       "      <th>2019-07-18 04:09:34</th>\n",
       "      <td>2019-07-18</td>\n",
       "      <td>04:09:34</td>\n",
       "      <td>154.35</td>\n",
       "      <td>0.000000</td>\n",
       "      <td>-0.296667</td>\n",
       "      <td>24.23</td>\n",
       "      <td>0.000562</td>\n",
       "      <td>-2.220446e-16</td>\n",
       "      <td>-0.000315</td>\n",
       "      <td>0.005281</td>\n",
       "      <td>0</td>\n",
       "      <td>0</td>\n",
       "      <td>doctor</td>\n",
       "      <td>M</td>\n",
       "      <td>10</td>\n",
       "      <td>7</td>\n",
       "      <td>22</td>\n",
       "    </tr>\n",
       "  </tbody>\n",
       "</table>\n",
       "<p>2283336 rows × 17 columns</p>\n",
       "</div>"
      ],
      "text/plain": [
       "                                 Date      Hour      HR       EDA         BVP  \\\n",
       "ID     Timestamp                                                                \n",
       "A00520 2019-07-21 01:24:45 2019-07-21  01:24:45   61.00  1.736234  -40.107969   \n",
       "       2019-07-21 01:24:46 2019-07-21  01:24:46   72.00  1.730151   40.258125   \n",
       "       2019-07-21 01:24:47 2019-07-21  01:24:47   81.33  1.725349   73.228437   \n",
       "       2019-07-21 01:24:48 2019-07-21  01:24:48   75.75  1.666123 -159.891094   \n",
       "       2019-07-21 01:24:49 2019-07-21  01:24:49   72.40  1.685012  109.886719   \n",
       "...                               ...       ...     ...       ...         ...   \n",
       "A00708 2019-07-18 04:09:30 2019-07-18  04:09:30  151.15  0.021783   -0.140625   \n",
       "       2019-07-18 04:09:31 2019-07-18  04:09:31  151.95  0.021462    0.160156   \n",
       "       2019-07-18 04:09:32 2019-07-18  04:09:32  152.73  0.022103   -0.084844   \n",
       "       2019-07-18 04:09:33 2019-07-18  04:09:33  153.52  0.023064    0.116094   \n",
       "       2019-07-18 04:09:34 2019-07-18  04:09:34  154.35  0.000000   -0.296667   \n",
       "\n",
       "                             TEMP     ACC_X         ACC_Y     ACC_Z  \\\n",
       "ID     Timestamp                                                      \n",
       "A00520 2019-07-21 01:24:45  35.57 -0.000124 -1.126969e-03 -0.000433   \n",
       "       2019-07-21 01:24:46  35.55  0.001707  7.699929e-04  0.002845   \n",
       "       2019-07-21 01:24:47  35.55 -0.001463 -1.764202e-03 -0.002908   \n",
       "       2019-07-21 01:24:48  35.55 -0.000630  1.896251e-04 -0.000394   \n",
       "       2019-07-21 01:24:49  35.55  0.000144 -4.122786e-04 -0.000219   \n",
       "...                           ...       ...           ...       ...   \n",
       "A00708 2019-07-18 04:09:30  24.23 -0.000007 -2.220446e-16  0.000033   \n",
       "       2019-07-18 04:09:31  24.21 -0.000024 -2.220446e-16 -0.000025   \n",
       "       2019-07-18 04:09:32  24.23 -0.000159 -2.220446e-16  0.000469   \n",
       "       2019-07-18 04:09:33  24.23 -0.000023 -2.220446e-16  0.000075   \n",
       "       2019-07-18 04:09:34  24.23  0.000562 -2.220446e-16 -0.000315   \n",
       "\n",
       "                            ACC_Overall  Tag  Work        Job        Sex  \\\n",
       "ID     Timestamp                                                           \n",
       "A00520 2019-07-21 01:24:45     0.008625    0     0  not known  not known   \n",
       "       2019-07-21 01:24:46     0.011311    0     0  not known  not known   \n",
       "       2019-07-21 01:24:47     0.015706    0     0  not known  not known   \n",
       "       2019-07-21 01:24:48     0.005511    0     0  not known  not known   \n",
       "       2019-07-21 01:24:49     0.007369    0     0  not known  not known   \n",
       "...                                 ...  ...   ...        ...        ...   \n",
       "A00708 2019-07-18 04:09:30     0.005346    0     0     doctor          M   \n",
       "       2019-07-18 04:09:31     0.004817    0     0     doctor          M   \n",
       "       2019-07-18 04:09:32     0.004291    0     0     doctor          M   \n",
       "       2019-07-18 04:09:33     0.007182    0     0     doctor          M   \n",
       "       2019-07-18 04:09:34     0.005281    0     0     doctor          M   \n",
       "\n",
       "                           Autonomy_perceived Stress_perceived Stress_PSS  \n",
       "ID     Timestamp                                                           \n",
       "A00520 2019-07-21 01:24:45          not known        not known  not known  \n",
       "       2019-07-21 01:24:46          not known        not known  not known  \n",
       "       2019-07-21 01:24:47          not known        not known  not known  \n",
       "       2019-07-21 01:24:48          not known        not known  not known  \n",
       "       2019-07-21 01:24:49          not known        not known  not known  \n",
       "...                                       ...              ...        ...  \n",
       "A00708 2019-07-18 04:09:30                 10                7         22  \n",
       "       2019-07-18 04:09:31                 10                7         22  \n",
       "       2019-07-18 04:09:32                 10                7         22  \n",
       "       2019-07-18 04:09:33                 10                7         22  \n",
       "       2019-07-18 04:09:34                 10                7         22  \n",
       "\n",
       "[2283336 rows x 17 columns]"
      ]
     },
     "execution_count": 36,
     "metadata": {},
     "output_type": "execute_result"
    }
   ],
   "source": [
    "df"
   ]
  }
 ],
 "metadata": {
  "kernelspec": {
   "display_name": "Python 3 (ipykernel)",
   "language": "python",
   "name": "python3"
  },
  "language_info": {
   "codemirror_mode": {
    "name": "ipython",
    "version": 3
   },
   "file_extension": ".py",
   "mimetype": "text/x-python",
   "name": "python",
   "nbconvert_exporter": "python",
   "pygments_lexer": "ipython3",
   "version": "3.9.7"
  }
 },
 "nbformat": 4,
 "nbformat_minor": 5
}
